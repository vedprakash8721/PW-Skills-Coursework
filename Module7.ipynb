{
  "nbformat": 4,
  "nbformat_minor": 0,
  "metadata": {
    "colab": {
      "provenance": []
    },
    "kernelspec": {
      "name": "python3",
      "display_name": "Python 3"
    },
    "language_info": {
      "name": "python"
    }
  },
  "cells": [
    {
      "cell_type": "markdown",
      "source": [
        "---"
      ],
      "metadata": {
        "id": "sDVkXuPwp7EK"
      }
    },
    {
      "cell_type": "markdown",
      "source": [
        "#Theoretical Question"
      ],
      "metadata": {
        "id": "_8GObLLLp9s6"
      }
    },
    {
      "cell_type": "markdown",
      "source": [
        "---"
      ],
      "metadata": {
        "id": "vBjyZNyAqCNh"
      }
    },
    {
      "cell_type": "markdown",
      "source": [
        "#Qno 1 . What is the difference between interpreted and compiled languages.\n",
        "- Compiled Languages\n",
        "Definition: Translated entirely into machine code before execution by a compiler.\n",
        "\n",
        "Execution: Generates a standalone executable file.\n",
        "\n",
        "Speed: Generally faster because the code is already compiled.\n",
        "\n",
        "Error Handling: Errors are shown at compile-time.\n",
        "\n",
        "Examples: C, C++, Rust, Go.\n",
        "\n",
        "Interpreted Languages\n",
        "Definition: Translated line-by-line at runtime by an interpreter.\n",
        "\n",
        "Execution: No separate executable is created; runs directly by the interpreter.\n",
        "\n",
        "Speed: Generally slower due to real-time translation.\n",
        "\n",
        "Error Handling: Errors appear at runtime.\n",
        "\n",
        "Examples: Python, JavaScript, Ruby, PHP\n",
        "\n",
        "---"
      ],
      "metadata": {
        "id": "DA8pqmsJqDIa"
      }
    },
    {
      "cell_type": "markdown",
      "source": [
        "#Qno 2.  What is exception handling in Python.\n",
        "-Exception Handling in Python (Theory Only)\n",
        "Exception handling in Python is a process used to manage errors that occur during program execution. It allows the program to detect and respond to exceptions—which are unexpected events like runtime errors—without terminating the program abruptly.\n",
        "\n",
        "Python provides structured blocks like try, except, else, and finally to catch and handle exceptions. This ensures the program can continue executing or terminate gracefully with appropriate error messages.\n",
        "\n",
        "The main goal of exception handling is to make programs robust, reliable, and user-friendly by managing abnormal situations efficiently.\n",
        "\n",
        "---\n",
        "\n",
        "\n",
        "\n",
        "\n",
        "\n"
      ],
      "metadata": {
        "id": "v3Wu2SZsqXbR"
      }
    },
    {
      "cell_type": "markdown",
      "source": [
        "#Qno 3.  What is the purpose of the finally block in exception handling.\n",
        "- Purpose of the finally Block in Exception Handling (Theory Only)\n",
        "The finally block in Python is used to define code that must be executed, regardless of whether an exception occurred or not. Its main purpose is to ensure that important cleanup actions—such as closing files, releasing resources, or resetting variables—are always performed.\n",
        "\n",
        "It guarantees the execution of critical final steps, making programs more reliable and safe, especially in scenarios involving file operations, database connections, or resource management.\n",
        "\n",
        "---"
      ],
      "metadata": {
        "id": "ZXD1qBrTqmGB"
      }
    },
    {
      "cell_type": "markdown",
      "source": [
        "#Qno 4 . What is logging in Python.\n",
        "- Logging in Python is the process of recording informational messages, warnings, errors, or other events that occur during the execution of a program. It is used to track the flow, diagnose problems, and monitor the behavior of applications.\n",
        "\n",
        "Python provides a built-in logging module that enables developers to create log messages with different severity levels (e.g., DEBUG, INFO, WARNING, ERROR, CRITICAL). Logging is preferred over print statements in production code because it is configurable, scalable, and can write output to files, consoles, or external systems.\n",
        "\n",
        "The main purpose of logging is to support debugging, maintenance, and auditing of applications in a structured and efficient manner.\n",
        "\n",
        "---"
      ],
      "metadata": {
        "id": "7EnVAkiYqvqh"
      }
    },
    {
      "cell_type": "markdown",
      "source": [
        "#Qno 5 .  What is the significance of the __del__ method in Python.\n",
        "- The __del__ method in Python is a special method known as a destructor. It is called automatically when an object is about to be destroyed or garbage collected.\n",
        "\n",
        "The primary purpose of __del__ is to perform cleanup operations, such as releasing external resources, closing files, or disconnecting from databases—tasks that need to be done before the object is removed from memory.\n",
        "\n",
        "It helps manage memory and resources efficiently, especially in programs that use system-level or persistent connections. However, its use should be handled carefully, as the timing of its execution is determined by Python's garbage collector and is not always predictable.\n",
        "\n",
        "\n",
        "---\n",
        "\n",
        "\n",
        "\n",
        "\n",
        "\n"
      ],
      "metadata": {
        "id": "dDvQ_r1hq5fp"
      }
    },
    {
      "cell_type": "markdown",
      "source": [
        "#Qno 6. What is the difference between import and from ... import in Python.\n",
        "- import Statement:\n",
        "Imports the entire module.\n",
        "\n",
        "Access to functions, classes, or variables must be through the module name.\n",
        "\n",
        "Promotes namespace clarity.\n",
        "\n",
        "Example (conceptual):\n",
        "import math → Use as math.sqrt()\n",
        "\n",
        "from ... import Statement:\n",
        "Imports specific attributes (functions, classes, variables) directly from a module.\n",
        "\n",
        "Allows using them without module prefix.\n",
        "\n",
        "Increases convenience but may pollute the namespace if overused.\n",
        "\n",
        "Example (conceptual):\n",
        "from math import sqrt → Use directly as sqrt()\n",
        "\n",
        "Summary:\n",
        "import → safer, keeps namespace clean.\n",
        "\n",
        "from ... import → shorter, more direct access but less explicit.\n",
        "\n",
        "---"
      ],
      "metadata": {
        "id": "A8CvI01FrLGC"
      }
    },
    {
      "cell_type": "markdown",
      "source": [
        "#Qno 7 . F How can you handle multiple exceptions in Python.\n",
        "- 1. Multiple except Blocks\n",
        "Each block handles a specific exception type separately.\n",
        "This provides granular control over different error types.\n",
        "\n",
        "2. Single except Block with a Tuple\n",
        "Multiple exceptions can be grouped using a tuple.\n",
        "This is useful when same handling logic applies to different exceptions.\n",
        "\n",
        "3. Generic except Block\n",
        "Used to catch any exception, but should be used cautiously, as it may hide unexpected errors.\n",
        "\n",
        "The main goal is to ensure robust error management, allowing programs to handle various failure conditions gracefully and continuously.\n",
        "\n",
        "\n",
        "---"
      ],
      "metadata": {
        "id": "JFyz89lMrWZh"
      }
    },
    {
      "cell_type": "markdown",
      "source": [
        "#Qno 8.  What is the purpose of the with statement when handling files in Python.\n",
        "- The with statement in Python is used to manage resources like file objects safely and efficiently. When handling files, its main purpose is to ensure that the file is automatically closed after its suite finishes, even if an exception occurs during file operations.\n",
        "\n",
        "This approach follows the context management protocol, which simplifies code, prevents resource leaks, and improves reliability by handling setup and cleanup tasks automatically.\n",
        "\n",
        "\n",
        "\n",
        "\n",
        "\n",
        "\n",
        "\n",
        "\n",
        "\n",
        "---"
      ],
      "metadata": {
        "id": "FcvsH_4rricI"
      }
    },
    {
      "cell_type": "markdown",
      "source": [
        "#Qno 9 .  What is the difference between multithreading and multiprocessing.\n",
        "- Multithreading\n",
        "Uses multiple threads within a single process.\n",
        "\n",
        "Threads share the same memory space.\n",
        "\n",
        "Best suited for I/O-bound tasks (e.g., file operations, network calls).\n",
        "\n",
        "Faster context switching but limited by the Global Interpreter Lock (GIL) in Python.\n",
        "\n",
        "More lightweight, but risks race conditions and deadlocks.\n",
        "\n",
        "Multiprocessing\n",
        "Uses multiple processes, each with its own memory space.\n",
        "\n",
        "Best for CPU-bound tasks (e.g., data processing, computation).\n",
        "\n",
        "Bypasses the GIL, enabling true parallelism in Python.\n",
        "\n",
        "Heavier on resources due to separate memory allocation.\n",
        "\n",
        "More stable but higher overhead for inter-process communication.\n",
        "\n",
        "\n",
        "---"
      ],
      "metadata": {
        "id": "X13bV9uursWI"
      }
    },
    {
      "cell_type": "markdown",
      "source": [
        "#Qno 10 . What are the advantages of using logging in a program.\n",
        "- Improved Debugging\n",
        "Logs provide detailed insights into program execution, making it easier to identify and fix issues.\n",
        "\n",
        "Error Tracking and Analysis\n",
        "Helps capture errors and exceptions with context, facilitating quicker diagnosis and resolution.\n",
        "\n",
        "Audit Trail Creation\n",
        "Maintains a chronological record of events and actions, useful for compliance and auditing purposes.\n",
        "\n",
        "Monitoring and Maintenance\n",
        "Enables continuous monitoring of application behavior and performance in production environments.\n",
        "\n",
        "Non-Intrusive\n",
        "Unlike print statements, logging can be configured dynamically without changing the codebase.\n",
        "\n",
        "Configurable Severity Levels\n",
        "Allows filtering of messages based on importance (DEBUG, INFO, WARNING, ERROR, CRITICAL).\n",
        "\n",
        "Supports Multiple Outputs\n",
        "Logs can be directed to files, consoles, remote servers, or external monitoring systems.\n",
        "\n",
        "\n",
        "\n",
        "---"
      ],
      "metadata": {
        "id": "DxM-KpqNr2OY"
      }
    },
    {
      "cell_type": "markdown",
      "source": [
        "#Qno 11.  What is memory management in Python.\n",
        "- Memory management in Python refers to the process by which the Python interpreter allocates, manages, and frees memory for objects during program execution. It ensures efficient use of system memory while handling creation and destruction of objects.\n",
        "\n",
        "Key components include:\n",
        "\n",
        "Automatic Allocation: Python automatically allocates memory for new objects.\n",
        "\n",
        "Garbage Collection: Python uses reference counting and a cyclic garbage collector to identify and reclaim memory occupied by objects no longer in use.\n",
        "\n",
        "Memory Pools: Python manages small objects using specialized memory pools for performance optimization.\n",
        "\n",
        "Effective memory management helps maintain program stability, performance, and prevents memory leaks during execution.\n",
        "\n",
        "\n",
        "---"
      ],
      "metadata": {
        "id": "Id51_5enr_wS"
      }
    },
    {
      "cell_type": "markdown",
      "source": [
        "#Qno 12. What are the basic steps involved in exception handling in Python.\n",
        "- Identify Code That May Raise Exceptions\n",
        "Enclose the potentially error-prone code within a try block.\n",
        "\n",
        "Catch Exceptions Using except Blocks\n",
        "Define one or more except blocks to handle specific exceptions or a general exception.\n",
        "\n",
        "Optionally Use else Block\n",
        "Place code that should run only if no exceptions occur.\n",
        "\n",
        "Optionally Use finally Block\n",
        "Include cleanup code that must run regardless of whether an exception occurred or not.\n",
        "\n",
        "These steps ensure that the program can gracefully handle errors, maintain control flow, and clean up resources properly.\n",
        "\n",
        "\n",
        "---"
      ],
      "metadata": {
        "id": "CCNiOGAqsMM4"
      }
    },
    {
      "cell_type": "markdown",
      "source": [
        "#Qno 13.  Why is memory management important in Python.\n",
        "- Memory management is crucial in Python because it ensures efficient utilization of system resources, prevents memory leaks, and maintains program stability during execution.\n",
        "\n",
        "Effective memory management:\n",
        "\n",
        "Optimizes performance by allocating and freeing memory as needed.\n",
        "\n",
        "Supports automatic garbage collection, reducing manual intervention.\n",
        "\n",
        "Prevents excessive memory consumption that can lead to crashes or slowdowns.\n",
        "\n",
        "Enables Python programs to run reliably in resource-constrained environments.\n",
        "\n",
        "In summary, proper memory management is vital for building robust, efficient, and scalable Python applications.\n",
        "\n",
        "---"
      ],
      "metadata": {
        "id": "5AcEnqUksZVQ"
      }
    },
    {
      "cell_type": "markdown",
      "source": [
        "#Qno 14. What is the role of try and except in exception handling.\n",
        "-  try Block: Contains the code segment where exceptions might occur. It allows the program to monitor for potential errors during execution.\n",
        "\n",
        "except Block: Defines how to handle specific exceptions raised within the try block. It prevents the program from crashing by providing alternative actions or error messages.\n",
        "\n",
        "Together, try and except enable controlled error detection and recovery, ensuring programs remain stable and responsive when unexpected issues arise.\n",
        "\n",
        "\n",
        "\n",
        "\n",
        "\n",
        "\n",
        "\n",
        "---"
      ],
      "metadata": {
        "id": "SKtmHYDVsh8x"
      }
    },
    {
      "cell_type": "markdown",
      "source": [
        "#Qno 15.  How does Python's garbage collection system work.\n",
        "-  Python’s garbage collection system automatically reclaims memory occupied by objects that are no longer in use, preventing memory leaks and optimizing resource utilization.\n",
        "\n",
        "Key mechanisms include:\n",
        "\n",
        "Reference Counting: Each object maintains a count of references pointing to it. When this count drops to zero, the object’s memory is immediately deallocated.\n",
        "\n",
        "Cycle Detection: To handle reference cycles (where objects reference each other, preventing reference counts from reaching zero), Python uses a cyclic garbage collector that periodically identifies and collects such unreachable objects.\n",
        "\n",
        "Together, these mechanisms ensure efficient memory management by freeing unused objects while maintaining program performance and stability.\n",
        "\n",
        "\n",
        "\n",
        "\n",
        "\n",
        "\n",
        "\n",
        "---"
      ],
      "metadata": {
        "id": "fYg8HicSsrxv"
      }
    },
    {
      "cell_type": "markdown",
      "source": [
        "#Qno 16 . What is the purpose of the else block in exception handling.\n",
        "-  The else block in Python’s exception handling is used to define code that should execute only if no exceptions occur in the preceding try block. It allows separation of the normal execution path from error handling, improving code clarity and organization.\n",
        "\n",
        "In summary, the else block runs when the try block is successful without any exceptions, supporting clean and logical flow control in programs.\n",
        "\n",
        "\n",
        "\n",
        "\n",
        "\n",
        "\n",
        "\n",
        "---"
      ],
      "metadata": {
        "id": "A5ZoBVTks1xv"
      }
    },
    {
      "cell_type": "markdown",
      "source": [
        "#Qno 17.  What are the common logging levels in Python.\n",
        "- Python’s logging module defines several standard logging levels to indicate the severity of events:\n",
        "\n",
        "DEBUG\n",
        "Detailed information, typically of interest only when diagnosing problems.\n",
        "\n",
        "INFO\n",
        "Confirmation that things are working as expected.\n",
        "\n",
        "WARNING\n",
        "An indication of a potential problem or important situation that is not necessarily an error.\n",
        "\n",
        "ERROR\n",
        "A more serious problem that caused a part of the program to fail.\n",
        "\n",
        "CRITICAL\n",
        "A very serious error, indicating that the program itself may be unable to continue running.\n",
        "\n",
        "These levels help filter and categorize log messages based on their importance for effective monitoring and troubleshooting.\n",
        "\n",
        "---"
      ],
      "metadata": {
        "id": "Mxd-kGIrs_mY"
      }
    },
    {
      "cell_type": "markdown",
      "source": [
        "#Qno 18.  What is the difference between os.fork() and multiprocessing in Python.\n",
        "- os.fork()\n",
        "A low-level system call available on Unix/Linux systems.\n",
        "\n",
        "Creates a child process by duplicating the current process (parent).\n",
        "\n",
        "Both processes continue execution independently from the point of the fork.\n",
        "\n",
        "Requires manual management of process communication and synchronization.\n",
        "\n",
        "Not available on Windows.\n",
        "\n",
        "multiprocessing Module\n",
        "A high-level Python module for process-based parallelism.\n",
        "\n",
        "Provides an easy-to-use API to create and manage multiple processes.\n",
        "\n",
        "Handles inter-process communication, synchronization, and process pools automatically.\n",
        "\n",
        "Cross-platform and works on Windows, Linux, macOS.\n",
        "\n",
        "Includes features like shared memory, queues, and process-safe data structures.\n",
        "\n",
        "---"
      ],
      "metadata": {
        "id": "gBCGJIoztJqw"
      }
    },
    {
      "cell_type": "markdown",
      "source": [
        "#Qno 19. What is the importance of closing a file in Python.\n",
        "- Closing a file in Python is crucial because it:\n",
        "\n",
        "Ensures Data Integrity: Flushes any buffered data to the file, preventing data loss or corruption.\n",
        "\n",
        "Releases System Resources: Frees up file descriptors and memory associated with the file, avoiding resource leaks.\n",
        "\n",
        "Prevents File Locks: Allows other programs or processes to access the file without conflicts.\n",
        "\n",
        "Maintains Program Stability: Helps avoid unexpected errors or undefined behavior related to open files.\n",
        "\n",
        "Properly closing files is essential for efficient resource management and robust application behavior.\n",
        "\n",
        "\n",
        "---"
      ],
      "metadata": {
        "id": "PbjgHRu6tUzH"
      }
    },
    {
      "cell_type": "markdown",
      "source": [
        "#Qno 20.  What is the difference between file.read() and file.readline() in Python.\n",
        "- file.read()\n",
        "Reads the entire content of the file (or a specified number of bytes) at once.\n",
        "\n",
        "Returns a single string containing all the data read.\n",
        "\n",
        "Useful when you want to process the whole file in one go.\n",
        "\n",
        "file.readline()\n",
        "Reads the file one line at a time.\n",
        "\n",
        "Returns a string containing the current line including the newline character (\\n).\n",
        "\n",
        "Useful for processing a file line-by-line, especially for large files to save memory.\n",
        "\n",
        "\n",
        "---"
      ],
      "metadata": {
        "id": "8mAUxtoUtgD3"
      }
    },
    {
      "cell_type": "markdown",
      "source": [
        "#Qno 21. What is the logging module in Python used for.\n",
        "- The logging module in Python is used to record messages that describe the execution of a program. It helps developers to:\n",
        "\n",
        "Track events and behaviors during program runtime.\n",
        "\n",
        "Capture informational messages, warnings, errors, and critical issues.\n",
        "\n",
        "Facilitate debugging and troubleshooting by providing detailed runtime insights.\n",
        "\n",
        "Maintain a persistent record of application activity through logs.\n",
        "\n",
        "Configure flexible logging output (e.g., console, files, remote servers).\n",
        "\n",
        "Overall, the logging module is essential for building maintainable, debuggable, and production-ready applications.\n",
        "\n",
        "---"
      ],
      "metadata": {
        "id": "X3hU2W13tqE3"
      }
    },
    {
      "cell_type": "markdown",
      "source": [
        "#Qno 22. What is the os module in Python used for in file handling.\n",
        "- The os module in Python provides a set of operating system-dependent functions that facilitate advanced file handling tasks beyond basic reading and writing, such as:\n",
        "\n",
        "File and directory manipulation (creating, removing, renaming files/directories).\n",
        "\n",
        "Navigating the file system (changing directories, listing directory contents).\n",
        "\n",
        "Retrieving file metadata (size, permissions, timestamps).\n",
        "\n",
        "Handling file paths in a platform-independent manner.\n",
        "\n",
        "Managing environment variables related to file operations.\n",
        "\n",
        "In summary, the os module enables efficient and platform-independent management of files and directories within Python programs.\n",
        "\n",
        "\n",
        "\n",
        "\n",
        "\n",
        "\n",
        "\n",
        "\n",
        "\n",
        "---"
      ],
      "metadata": {
        "id": "W_-N43Rmt2Mn"
      }
    },
    {
      "cell_type": "markdown",
      "source": [
        "#Qno 23. What are the challenges associated with memory management in Python.\n",
        "- Reference Cycles\n",
        "Objects referencing each other can create cycles that standard reference counting cannot clean up immediately, requiring additional cyclic garbage collection.\n",
        "\n",
        "Garbage Collection Overhead\n",
        "The cyclic garbage collector runs periodically and can introduce performance overhead, affecting real-time or latency-sensitive applications.\n",
        "\n",
        "Memory Fragmentation\n",
        "Frequent allocation and deallocation of objects may cause fragmentation, leading to inefficient memory usage.\n",
        "\n",
        "Global Interpreter Lock (GIL)\n",
        "Limits true parallelism in multi-threaded programs, indirectly impacting memory management efficiency in concurrent executions.\n",
        "\n",
        "Unpredictable Destructor Timing\n",
        "The exact moment when __del__ methods are called is uncertain, complicating timely release of external resources.\n",
        "\n",
        "Large Object Management\n",
        "Managing memory for very large data structures can be challenging, especially in limited-memory environments.\n",
        "\n",
        "---"
      ],
      "metadata": {
        "id": "J6WrL13St-Wf"
      }
    },
    {
      "cell_type": "markdown",
      "source": [
        "#Qno 24.  How do you raise an exception manually in Python.\n",
        "- In Python, you can manually raise an exception using the raise statement. This allows you to trigger an exception intentionally when a specific condition occurs, enabling custom error handling or enforcing constraints.\n",
        "\n",
        "The syntax involves specifying the exception type (built-in or user-defined) after the raise keyword. Optionally, you can provide an error message or pass additional information.\n",
        "\n",
        "Manually raising exceptions is essential for validating input, enforcing business rules, and communicating error conditions explicitly in your code.\n",
        "\n",
        "\n",
        "\n",
        "\n",
        "\n",
        "\n",
        "\n",
        "---"
      ],
      "metadata": {
        "id": "UKBTrcB7uJLH"
      }
    },
    {
      "cell_type": "markdown",
      "source": [
        "#Qno 25. Why is it important to use multithreading in certain applications.\n",
        "- Multithreading is important because it enables a program to perform multiple tasks concurrently within a single process, leading to:\n",
        "\n",
        "Improved Responsiveness: Allows applications, especially user interfaces, to remain responsive while performing background tasks.\n",
        "\n",
        "Efficient I/O Operations: Threads can handle input/output operations (like file reading, network communication) simultaneously without blocking the main execution flow.\n",
        "\n",
        "Better Resource Utilization: Multithreading leverages idle CPU time during I/O waits, maximizing overall system efficiency.\n",
        "\n",
        "Simplified Program Design: Allows breaking complex tasks into smaller, manageable threads that run independently.\n",
        "\n",
        "In summary, multithreading is crucial for concurrency, particularly in I/O-bound or interactive applications where parallelism enhances performance and user experience.\n",
        "\n",
        "\n",
        "---"
      ],
      "metadata": {
        "id": "zAVzBOvPuRse"
      }
    },
    {
      "cell_type": "markdown",
      "source": [
        "#Practical Question\n",
        "\n",
        "\n",
        "---"
      ],
      "metadata": {
        "id": "T0E-QeJbuanf"
      }
    },
    {
      "cell_type": "markdown",
      "source": [
        "#Qno 1. How can you open a file for writing in Python and write a string to it.\n",
        "-"
      ],
      "metadata": {
        "id": "lOxbNPx8umjG"
      }
    },
    {
      "cell_type": "code",
      "source": [
        "with open('filename.txt', 'w') as file:\n",
        "    file.write(\"Your string goes here\")\n"
      ],
      "metadata": {
        "id": "SF2j-eFlux33"
      },
      "execution_count": 1,
      "outputs": []
    },
    {
      "cell_type": "markdown",
      "source": [
        "---"
      ],
      "metadata": {
        "id": "5L_ryqyUu2fW"
      }
    },
    {
      "cell_type": "markdown",
      "source": [
        "#Qno 2 . Write a Python program to read the contents of a file and print each line.\n"
      ],
      "metadata": {
        "id": "ybjTdCZqu2iV"
      }
    },
    {
      "cell_type": "code",
      "source": [
        "with open('filename.txt', 'r') as file:\n",
        "    for line in file:\n",
        "        print(line, end='')\n"
      ],
      "metadata": {
        "colab": {
          "base_uri": "https://localhost:8080/"
        },
        "id": "2S64hIQ6u9yu",
        "outputId": "76c9250d-8f0c-400e-f705-c653af156e3d"
      },
      "execution_count": 2,
      "outputs": [
        {
          "output_type": "stream",
          "name": "stdout",
          "text": [
            "Your string goes here"
          ]
        }
      ]
    },
    {
      "cell_type": "markdown",
      "source": [
        "---"
      ],
      "metadata": {
        "id": "-bcP0D2HsJoQ"
      }
    },
    {
      "cell_type": "markdown",
      "source": [
        "#Qno 3 . F How would you handle a case where the file doesn't exist while trying to open it for reading.\n"
      ],
      "metadata": {
        "id": "ZnlHXf5bvEDe"
      }
    },
    {
      "cell_type": "code",
      "source": [
        "try:\n",
        "    with open('filename.txt', 'r') as file:\n",
        "        content = file.read()\n",
        "except FileNotFoundError:\n",
        "    print(\"Error: The file does not exist.\")\n"
      ],
      "metadata": {
        "id": "v1xPOKE3vNKG"
      },
      "execution_count": 3,
      "outputs": []
    },
    {
      "cell_type": "markdown",
      "source": [
        "---"
      ],
      "metadata": {
        "id": "cvmssyQGvQiG"
      }
    },
    {
      "cell_type": "markdown",
      "source": [
        "#Qno 4.  Write a Python script that reads from one file and writes its content to another file.\n"
      ],
      "metadata": {
        "id": "18fQRUCYvRH2"
      }
    },
    {
      "cell_type": "code",
      "source": [
        "try:\n",
        "    with open('source.txt', 'r') as src_file:\n",
        "        content = src_file.read()\n",
        "\n",
        "    with open('destination.txt', 'w') as dest_file:\n",
        "        dest_file.write(content)\n",
        "\n",
        "    print(\"File copied successfully.\")\n",
        "except FileNotFoundError:\n",
        "    print(\"Error: 'source.txt' file not found.\")\n",
        "except PermissionError:\n",
        "    print(\"Error: Permission denied while accessing the files.\")\n",
        "except Exception as e:\n",
        "    print(\"An unexpected error occurred:\", e)\n"
      ],
      "metadata": {
        "colab": {
          "base_uri": "https://localhost:8080/"
        },
        "id": "ImoZ_vP6vVNu",
        "outputId": "ceb393b7-32c2-44fb-9c4b-25b288707048"
      },
      "execution_count": 6,
      "outputs": [
        {
          "output_type": "stream",
          "name": "stdout",
          "text": [
            "Error: 'source.txt' file not found.\n"
          ]
        }
      ]
    },
    {
      "cell_type": "markdown",
      "source": [
        "---"
      ],
      "metadata": {
        "id": "Yuq6Be_avt-m"
      }
    },
    {
      "cell_type": "markdown",
      "source": [
        "#Qno 5. F How would you catch and handle division by zero error in Python.\n"
      ],
      "metadata": {
        "id": "YSY9mz7VvuwW"
      }
    },
    {
      "cell_type": "code",
      "source": [
        "try:\n",
        "    result = 10 / 0\n",
        "except ZeroDivisionError:\n",
        "    print(\"Error: Division by zero is not allowed.\")\n"
      ],
      "metadata": {
        "colab": {
          "base_uri": "https://localhost:8080/"
        },
        "id": "2uWHRUMCvzo-",
        "outputId": "9496ac10-8fe0-4718-f443-f47f305203e2"
      },
      "execution_count": 7,
      "outputs": [
        {
          "output_type": "stream",
          "name": "stdout",
          "text": [
            "Error: Division by zero is not allowed.\n"
          ]
        }
      ]
    },
    {
      "cell_type": "markdown",
      "source": [
        "---"
      ],
      "metadata": {
        "id": "OsVDgAZXv3zl"
      }
    },
    {
      "cell_type": "markdown",
      "source": [
        "#Qno 6.  Write a Python program that logs an error message to a log file when a division by zero exception occurs.\n"
      ],
      "metadata": {
        "id": "BL9MaFs1v4c9"
      }
    },
    {
      "cell_type": "code",
      "source": [
        "import logging\n",
        "\n",
        "# Configure logging to write to a file with error level\n",
        "logging.basicConfig(filename='error.log', level=logging.ERROR,\n",
        "                    format='%(asctime)s - %(levelname)s - %(message)s')\n",
        "\n",
        "try:\n",
        "    result = 10 / 0\n",
        "except ZeroDivisionError as e:\n",
        "    logging.error(\"Division by zero error occurred: %s\", e)\n"
      ],
      "metadata": {
        "colab": {
          "base_uri": "https://localhost:8080/"
        },
        "id": "0tOegAnTv8ru",
        "outputId": "dc5115a2-ca07-4844-a4ab-1ae6a590f8e1"
      },
      "execution_count": 8,
      "outputs": [
        {
          "output_type": "stream",
          "name": "stderr",
          "text": [
            "ERROR:root:Division by zero error occurred: division by zero\n"
          ]
        }
      ]
    },
    {
      "cell_type": "markdown",
      "source": [
        "---"
      ],
      "metadata": {
        "id": "0caqlcenwECO"
      }
    },
    {
      "cell_type": "markdown",
      "source": [
        "#Qno 7.  How do you log information at different levels (INFO, ERROR, WARNING) in Python using the logging module.\n"
      ],
      "metadata": {
        "id": "EVI6rgcBwEf2"
      }
    },
    {
      "cell_type": "code",
      "source": [
        "import logging\n",
        "\n",
        "# Configure logging\n",
        "logging.basicConfig(level=logging.DEBUG, format='%(levelname)s: %(message)s')\n",
        "\n",
        "logging.info(\"This is an info message.\")\n",
        "logging.warning(\"This is a warning message.\")\n",
        "logging.error(\"This is an error message.\")\n"
      ],
      "metadata": {
        "colab": {
          "base_uri": "https://localhost:8080/"
        },
        "id": "L3om2k6YwKPW",
        "outputId": "be26528e-b963-4a40-cf98-ee4773cb89c6"
      },
      "execution_count": 9,
      "outputs": [
        {
          "output_type": "stream",
          "name": "stderr",
          "text": [
            "WARNING:root:This is a warning message.\n",
            "ERROR:root:This is an error message.\n"
          ]
        }
      ]
    },
    {
      "cell_type": "markdown",
      "source": [
        "---"
      ],
      "metadata": {
        "id": "BfZKjnFLwOEt"
      }
    },
    {
      "cell_type": "markdown",
      "source": [
        "#Qno 8. Write a program to handle a file opening error using exception handling.\n"
      ],
      "metadata": {
        "id": "ovYT3B5RwO_9"
      }
    },
    {
      "cell_type": "code",
      "source": [
        "try:\n",
        "    with open('example.txt', 'r') as file:\n",
        "        content = file.read()\n",
        "        print(content)\n",
        "except FileNotFoundError:\n",
        "    print(\"Error: The file 'example.txt' was not found.\")\n",
        "except IOError:\n",
        "    print(\"Error: An I/O error occurred while handling the file.\")\n"
      ],
      "metadata": {
        "colab": {
          "base_uri": "https://localhost:8080/"
        },
        "id": "IS0NkDbNwTRl",
        "outputId": "6ec9d262-0154-4418-9b66-0414097c56a0"
      },
      "execution_count": 10,
      "outputs": [
        {
          "output_type": "stream",
          "name": "stdout",
          "text": [
            "Error: The file 'example.txt' was not found.\n"
          ]
        }
      ]
    },
    {
      "cell_type": "markdown",
      "source": [
        "---"
      ],
      "metadata": {
        "id": "dVwX0nmtwWu8"
      }
    },
    {
      "cell_type": "markdown",
      "source": [
        "#Qno 9. How can you read a file line by line and store its content in a list in Python.\n"
      ],
      "metadata": {
        "id": "xlAEu-5EwXeO"
      }
    },
    {
      "cell_type": "code",
      "source": [
        "with open('filename.txt', 'r') as file:\n",
        "    lines = file.readlines()\n",
        "# 'lines' is now a list where each element is a line from the file\n"
      ],
      "metadata": {
        "id": "roDZfIJRwb9t"
      },
      "execution_count": 11,
      "outputs": []
    },
    {
      "cell_type": "markdown",
      "source": [
        "---"
      ],
      "metadata": {
        "id": "GmZw-Fbqwft1"
      }
    },
    {
      "cell_type": "markdown",
      "source": [
        "#Qno 10.  How can you append data to an existing file in Python.\n"
      ],
      "metadata": {
        "id": "ace948C2wgmV"
      }
    },
    {
      "cell_type": "code",
      "source": [
        "with open('filename.txt', 'a') as file:\n",
        "    file.write(\"This data will be appended to the file.\\n\")\n"
      ],
      "metadata": {
        "id": "PQ9klODwwpdt"
      },
      "execution_count": 12,
      "outputs": []
    },
    {
      "cell_type": "markdown",
      "source": [
        "---"
      ],
      "metadata": {
        "id": "f8BaWn4bwqel"
      }
    },
    {
      "cell_type": "markdown",
      "source": [
        "#Qno 11. Write a Python program that uses a try-except block to handle an error when attempting to access a dictionary key that doesn't exist."
      ],
      "metadata": {
        "id": "muPf_h9iwrsl"
      }
    },
    {
      "cell_type": "code",
      "source": [
        "my_dict = {'a': 1, 'b': 2, 'c': 3}\n",
        "\n",
        "try:\n",
        "    value = my_dict['d']\n",
        "except KeyError:\n",
        "    print(\"Error: The key 'd' does not exist in the dictionary.\")\n"
      ],
      "metadata": {
        "colab": {
          "base_uri": "https://localhost:8080/"
        },
        "id": "SwxK3Vq1wzfx",
        "outputId": "81f194b0-08ba-459c-b9c5-ffb036b4012b"
      },
      "execution_count": 13,
      "outputs": [
        {
          "output_type": "stream",
          "name": "stdout",
          "text": [
            "Error: The key 'd' does not exist in the dictionary.\n"
          ]
        }
      ]
    },
    {
      "cell_type": "markdown",
      "source": [
        "---"
      ],
      "metadata": {
        "id": "r22VUf-Vw205"
      }
    },
    {
      "cell_type": "markdown",
      "source": [
        "#Qno 12.  Write a program that demonstrates using multiple except blocks to handle different types of exceptions.\n"
      ],
      "metadata": {
        "id": "rTYRfujAw3qF"
      }
    },
    {
      "cell_type": "code",
      "source": [
        "try:\n",
        "    num = int(input(\"Enter a number: \"))\n",
        "    result = 10 / num\n",
        "    my_list = [1, 2, 3]\n",
        "    print(my_list[num])\n",
        "except ZeroDivisionError:\n",
        "    print(\"Error: Cannot divide by zero.\")\n",
        "except ValueError:\n",
        "    print(\"Error: Invalid input. Please enter a valid integer.\")\n",
        "except IndexError:\n",
        "    print(\"Error: List index out of range.\")\n"
      ],
      "metadata": {
        "colab": {
          "base_uri": "https://localhost:8080/"
        },
        "id": "bDH6uVycw9GF",
        "outputId": "108fcc43-8a6b-4587-c1d3-fcdbc52dfcc1"
      },
      "execution_count": 16,
      "outputs": [
        {
          "output_type": "stream",
          "name": "stdout",
          "text": [
            "Enter a number: 2\n",
            "3\n"
          ]
        }
      ]
    },
    {
      "cell_type": "markdown",
      "source": [
        "---"
      ],
      "metadata": {
        "id": "XWO--7VmxBU-"
      }
    },
    {
      "cell_type": "markdown",
      "source": [
        "#Qno 13. How would you check if a file exists before attempting to read it in Python.\n",
        "-"
      ],
      "metadata": {
        "id": "r60DD5XCxB9d"
      }
    },
    {
      "cell_type": "code",
      "source": [
        "import os\n",
        "\n",
        "if os.path.exists('filename.txt'):\n",
        "    with open('filename.txt', 'r') as file:\n",
        "        content = file.read()\n",
        "        print(content)\n",
        "else:\n",
        "    print(\"File does not exist.\")\n"
      ],
      "metadata": {
        "colab": {
          "base_uri": "https://localhost:8080/"
        },
        "id": "UUvj8jiyxPCt",
        "outputId": "93d66cac-6f00-4f99-bbf5-ff91f7ce7b7c"
      },
      "execution_count": 17,
      "outputs": [
        {
          "output_type": "stream",
          "name": "stdout",
          "text": [
            "Your string goes hereThis data will be appended to the file.\n",
            "\n"
          ]
        }
      ]
    },
    {
      "cell_type": "markdown",
      "source": [
        "---"
      ],
      "metadata": {
        "id": "8tEroDkzxTu9"
      }
    },
    {
      "cell_type": "markdown",
      "source": [
        "#Qno 14. Write a program that uses the logging module to log both informational and error messages.\n"
      ],
      "metadata": {
        "id": "YCwEFEg7xUWA"
      }
    },
    {
      "cell_type": "code",
      "source": [
        "import logging\n",
        "\n",
        "# Configure logging\n",
        "logging.basicConfig(filename='app.log', level=logging.DEBUG,\n",
        "                    format='%(asctime)s - %(levelname)s - %(message)s')\n",
        "\n",
        "logging.info(\"This is an informational message.\")\n",
        "logging.error(\"This is an error message.\")\n"
      ],
      "metadata": {
        "colab": {
          "base_uri": "https://localhost:8080/"
        },
        "id": "zWS1M-SXxZlo",
        "outputId": "95bbd893-c31e-40da-a42e-988c604f94a8"
      },
      "execution_count": 18,
      "outputs": [
        {
          "output_type": "stream",
          "name": "stderr",
          "text": [
            "ERROR:root:This is an error message.\n"
          ]
        }
      ]
    },
    {
      "cell_type": "markdown",
      "source": [
        "---"
      ],
      "metadata": {
        "id": "Rq2s3VRzxdZ1"
      }
    },
    {
      "cell_type": "markdown",
      "source": [
        "#Qno 15 . Write a Python program that prints the content of a file and handles the case when the file is empty.\n"
      ],
      "metadata": {
        "id": "1NvlCSFWxej9"
      }
    },
    {
      "cell_type": "code",
      "source": [
        "try:\n",
        "    with open('file.txt', 'r') as file:\n",
        "        content = file.read()\n",
        "        if content:\n",
        "            print(content)\n",
        "        else:\n",
        "            print(\"The file is empty.\")\n",
        "except FileNotFoundError:\n",
        "    print(\"Error: The file does not exist.\")\n"
      ],
      "metadata": {
        "colab": {
          "base_uri": "https://localhost:8080/"
        },
        "id": "WaMQ_IYqxjUl",
        "outputId": "bb2c5e34-4afe-4480-9990-f6df2d7d0aa3"
      },
      "execution_count": 19,
      "outputs": [
        {
          "output_type": "stream",
          "name": "stdout",
          "text": [
            "Error: The file does not exist.\n"
          ]
        }
      ]
    },
    {
      "cell_type": "markdown",
      "source": [
        "---"
      ],
      "metadata": {
        "id": "3-hsVDgBxmRN"
      }
    },
    {
      "cell_type": "markdown",
      "source": [
        "#Qno 16. Demonstrate how to use memory profiling to check the memory usage of a small program.\n"
      ],
      "metadata": {
        "id": "R-fof2E6xmyt"
      }
    },
    {
      "cell_type": "code",
      "source": [
        "from memory_profiler import profile\n",
        "\n",
        "@profile\n",
        "def my_function():\n",
        "    a = [i for i in range(100000)]\n",
        "    b = [i * i for i in range(100000)]\n",
        "    return a, b\n",
        "\n",
        "if __name__ == \"__main__\":\n",
        "    my_function()\n"
      ],
      "metadata": {
        "id": "O4zPm-7-x3rt"
      },
      "execution_count": null,
      "outputs": []
    },
    {
      "cell_type": "markdown",
      "source": [
        "---"
      ],
      "metadata": {
        "id": "PQwEpeqJx0ac"
      }
    },
    {
      "cell_type": "markdown",
      "source": [
        "#Qno 17.  Write a Python program to create and write a list of numbers to a file, one number per line.\n"
      ],
      "metadata": {
        "id": "Evzi2dsyx1Q9"
      }
    },
    {
      "cell_type": "code",
      "source": [
        "numbers = [1, 2, 3, 4, 5, 6, 7, 8, 9, 10]\n",
        "\n",
        "with open('numbers.txt', 'w') as file:\n",
        "    for number in numbers:\n",
        "        file.write(f\"{number}\\n\")\n"
      ],
      "metadata": {
        "id": "PlKQd61vyJUU"
      },
      "execution_count": 22,
      "outputs": []
    },
    {
      "cell_type": "markdown",
      "source": [
        "---"
      ],
      "metadata": {
        "id": "D6v_SX6_yOc_"
      }
    },
    {
      "cell_type": "markdown",
      "source": [
        "#Qno 18.  How would you implement a basic logging setup that logs to a file with rotation after 1MB\n"
      ],
      "metadata": {
        "id": "v3o2R4KRyR_s"
      }
    },
    {
      "cell_type": "code",
      "source": [
        "import logging\n",
        "from logging.handlers import RotatingFileHandler\n",
        "\n",
        "# Create a logger\n",
        "logger = logging.getLogger('my_logger')\n",
        "logger.setLevel(logging.DEBUG)\n",
        "\n",
        "# Create a rotating file handler that rotates after 1MB and keeps 3 backups\n",
        "handler = RotatingFileHandler('app.log', maxBytes=1_000_000, backupCount=3)\n",
        "handler.setLevel(logging.DEBUG)\n",
        "\n",
        "# Create a formatter and set it for the handler\n",
        "formatter = logging.Formatter('%(asctime)s - %(levelname)s - %(message)s')\n",
        "handler.setFormatter(formatter)\n",
        "\n",
        "# Add the handler to the logger\n",
        "logger.addHandler(handler)\n",
        "\n",
        "# Example usage\n",
        "logger.info(\"This is an info message.\")\n",
        "logger.error(\"This is an error message.\")\n"
      ],
      "metadata": {
        "colab": {
          "base_uri": "https://localhost:8080/"
        },
        "id": "GqkXeqKPyVl0",
        "outputId": "998662e3-7718-4275-d4a6-526f0ab6dfb9"
      },
      "execution_count": 23,
      "outputs": [
        {
          "output_type": "stream",
          "name": "stderr",
          "text": [
            "INFO:my_logger:This is an info message.\n",
            "ERROR:my_logger:This is an error message.\n"
          ]
        }
      ]
    },
    {
      "cell_type": "markdown",
      "source": [
        "---"
      ],
      "metadata": {
        "id": "xG7-YM2RyaGu"
      }
    },
    {
      "cell_type": "markdown",
      "source": [
        "#Qno 19.  Write a program that handles both IndexError and KeyError using a try-except block."
      ],
      "metadata": {
        "id": "Bt1jHH0Tyav9"
      }
    },
    {
      "cell_type": "code",
      "source": [
        "my_list = [10, 20, 30]\n",
        "my_dict = {'a': 1, 'b': 2}\n",
        "\n",
        "try:\n",
        "    # Accessing an invalid index\n",
        "    print(my_list[5])\n",
        "    # Accessing a non-existent key\n",
        "    print(my_dict['c'])\n",
        "except IndexError:\n",
        "    print(\"Error: List index out of range.\")\n",
        "except KeyError:\n",
        "    print(\"Error: Key not found in dictionary.\")\n"
      ],
      "metadata": {
        "colab": {
          "base_uri": "https://localhost:8080/"
        },
        "id": "zlDXXaMsyfYE",
        "outputId": "835108c1-8906-4c9a-dbd1-e15a52fa121a"
      },
      "execution_count": 24,
      "outputs": [
        {
          "output_type": "stream",
          "name": "stdout",
          "text": [
            "Error: List index out of range.\n"
          ]
        }
      ]
    },
    {
      "cell_type": "markdown",
      "source": [
        "---"
      ],
      "metadata": {
        "id": "4nX2jHSlyjIE"
      }
    },
    {
      "cell_type": "markdown",
      "source": [
        "#Qno 20. How would you open a file and read its contents using a context manager in Python."
      ],
      "metadata": {
        "id": "733E0x-Gyjlk"
      }
    },
    {
      "cell_type": "code",
      "source": [
        "with open('filename.txt', 'r') as file:\n",
        "    content = file.read()\n",
        "    print(content)\n"
      ],
      "metadata": {
        "id": "xaJRCxe6yp7N"
      },
      "execution_count": null,
      "outputs": []
    },
    {
      "cell_type": "markdown",
      "source": [
        "---"
      ],
      "metadata": {
        "id": "ta43GIXWytJ8"
      }
    },
    {
      "cell_type": "markdown",
      "source": [
        "#Qno 21.  Write a Python program that reads a file and prints the number of occurrences of a specific word"
      ],
      "metadata": {
        "id": "ueZJKjS7ytn8"
      }
    },
    {
      "cell_type": "code",
      "source": [
        "def count_word_in_file(filename, word):\n",
        "    count = 0\n",
        "    with open(filename, 'r') as file:\n",
        "        for line in file:\n",
        "            count += line.lower().split().count(word.lower())\n",
        "    print(f\"The word '{word}' occurs {count} times in the file.\")\n",
        "\n",
        "# Example usage\n",
        "count_word_in_file('sample.txt', 'python')\n"
      ],
      "metadata": {
        "id": "OyEoWpRpy5fM"
      },
      "execution_count": null,
      "outputs": []
    },
    {
      "cell_type": "markdown",
      "source": [
        "---"
      ],
      "metadata": {
        "id": "sdyke8vky0ss"
      }
    },
    {
      "cell_type": "markdown",
      "source": [
        "#Qno 22. How can you check if a file is empty before attempting to read its contents."
      ],
      "metadata": {
        "id": "OmwRhR8py3fs"
      }
    },
    {
      "cell_type": "code",
      "source": [
        "import os\n",
        "\n",
        "file_path = 'filename.txt'\n",
        "\n",
        "if os.path.exists(file_path) and os.path.getsize(file_path) > 0:\n",
        "    with open(file_path, 'r') as file:\n",
        "        content = file.read()\n",
        "        print(content)\n",
        "else:\n",
        "    print(\"The file is empty or does not exist.\")\n"
      ],
      "metadata": {
        "colab": {
          "base_uri": "https://localhost:8080/"
        },
        "id": "Tnq_yItZzAOd",
        "outputId": "abe4d20d-934e-49a6-b63f-e62688ea2c4d"
      },
      "execution_count": 26,
      "outputs": [
        {
          "output_type": "stream",
          "name": "stdout",
          "text": [
            "Your string goes hereThis data will be appended to the file.\n",
            "\n"
          ]
        }
      ]
    },
    {
      "cell_type": "markdown",
      "source": [
        "---"
      ],
      "metadata": {
        "id": "BByCIdtIzEhs"
      }
    },
    {
      "cell_type": "markdown",
      "source": [
        "#Qno 23. Write a Python program that writes to a log file when an error occurs during file handling."
      ],
      "metadata": {
        "id": "I4-4n1VRzFIM"
      }
    },
    {
      "cell_type": "code",
      "source": [
        "import logging\n",
        "\n",
        "# Configure logging to write errors to a file\n",
        "logging.basicConfig(filename='file_errors.log', level=logging.ERROR,\n",
        "                    format='%(asctime)s - %(levelname)s - %(message)s')\n",
        "\n",
        "try:\n",
        "    with open('non_existent_file.txt', 'r') as file:\n",
        "        content = file.read()\n",
        "except Exception as e:\n",
        "    logging.error(\"An error occurred during file handling: %s\", e)\n"
      ],
      "metadata": {
        "colab": {
          "base_uri": "https://localhost:8080/"
        },
        "id": "lp39UGHezIl1",
        "outputId": "ab3d4250-439c-470f-a32f-17e509c0f863"
      },
      "execution_count": 27,
      "outputs": [
        {
          "output_type": "stream",
          "name": "stderr",
          "text": [
            "ERROR:root:An error occurred during file handling: [Errno 2] No such file or directory: 'non_existent_file.txt'\n"
          ]
        }
      ]
    }
  ]
}