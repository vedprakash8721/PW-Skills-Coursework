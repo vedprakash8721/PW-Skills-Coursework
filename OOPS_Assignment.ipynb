{
  "nbformat": 4,
  "nbformat_minor": 0,
  "metadata": {
    "colab": {
      "provenance": []
    },
    "kernelspec": {
      "name": "python3",
      "display_name": "Python 3"
    },
    "language_info": {
      "name": "python"
    }
  },
  "cells": [
    {
      "cell_type": "markdown",
      "source": [
        "---\n",
        "# Theoretical Questions.\n",
        "---"
      ],
      "metadata": {
        "id": "MmHd76X6uJI7"
      }
    },
    {
      "cell_type": "markdown",
      "source": [
        "---\n",
        "\n",
        "#Qno 1. What is Object-Oriented Programming (OOP)?\n",
        "- Object-Oriented Programming (OOP) is a programming paradigm that organizes software design around objects rather than functions or logic alone. These objects represent real-world entities by combining data (attributes) and behavior (methods) into a single unit.\n",
        "\n",
        " The core principles of OOP include:\n",
        "\n",
        " Encapsulation: Bundling data and methods that operate on that data within one object, restricting direct access to some of the object's components.\n",
        "\n",
        " Abstraction: Hiding complex details and showing only essential features to the user.\n",
        "\n",
        " Inheritance: Creating new classes based on existing ones to promote code reuse.\n",
        "\n",
        " Polymorphism: Allowing objects of different classes to be treated as instances of the same class through a common interface.\n",
        "\n",
        " OOP promotes modular, scalable, and maintainable code by modeling software around real-world concepts.\n",
        "\n",
        "---"
      ],
      "metadata": {
        "id": "2IZNoY62uhOs"
      }
    },
    {
      "cell_type": "markdown",
      "source": [
        "#Qno 2.  What is a class in OOP?\n",
        "- A class in Object-Oriented Programming (OOP) is a blueprint or template for creating objects. It defines a set of attributes (data) and methods (functions) that the created objects (instances) will have. Essentially, a class encapsulates properties and behaviors that are common to all objects of that type.\n",
        "\n",
        " Key points about a class:\n",
        "It specifies what an object will contain (attributes) and what it can do (methods).\n",
        "\n",
        " It provides a structure to create multiple objects with similar characteristics.\n",
        "\n",
        " It enables code reuse and better organization by grouping related data and functions together.\n",
        "\n",
        "\n",
        "---\n"
      ],
      "metadata": {
        "id": "c6x6i9XPvUj8"
      }
    },
    {
      "cell_type": "markdown",
      "source": [
        "#Qno 3. What is an object in OOP?\n",
        "- An object in Object-Oriented Programming (OOP) is a specific instance of a class. It represents a concrete entity that contains real values for the attributes defined by its class and can perform the behaviors (methods) that the class describes.\n",
        "\n",
        " Key points about an object:\n",
        "It is created from a class blueprint.\n",
        "\n",
        " It holds actual data stored in its attributes.\n",
        "\n",
        " It can execute the methods defined by its class.\n",
        "\n",
        " Each object is independent, with its own state.\n",
        "\n",
        "---"
      ],
      "metadata": {
        "id": "xWdceSStvv2q"
      }
    },
    {
      "cell_type": "markdown",
      "source": [
        "#Qno 4. What is the difference between abstraction and encapsulation?\n",
        "- Abstraction\n",
        "Abstraction is the concept of hiding complex implementation details and showing only the essential features to the user. It focuses on what an object does rather than how it does it. The main goal is to simplify interaction by exposing a clean and straightforward interface while keeping the internal workings hidden.\n",
        "\n",
        " Encapsulation\n",
        "Encapsulation is the process of bundling data (attributes) and methods (functions) that operate on the data into a single unit, typically a class. It restricts direct access to some of an object's components, protecting the internal state and ensuring data is accessed or modified only through controlled methods. Encapsulation emphasizes how data is hidden and protected inside the object.\n",
        "\n",
        "---"
      ],
      "metadata": {
        "id": "YWdcbkvhwHJT"
      }
    },
    {
      "cell_type": "markdown",
      "source": [
        "#Qno 5 .What are dunder methods in Python?\n",
        "- Dunder methods, short for “double underscore” methods (also called magic methods or special methods), are predefined methods in Python that start and end with double underscores (__methodname__). They allow you to define or customize the behavior of Python objects for built-in operations.\n",
        "\n",
        " Why Are Dunder Methods Important?\n",
        " They enable operator overloading (e.g., +, -, *).\n",
        "\n",
        " They customize how objects behave with built-in functions (e.g., len(), str()).\n",
        "\n",
        " They control object creation, representation, comparison, and more.\n",
        "\n",
        "- Examples of Common Dunder Methods\n",
        "\n",
        "__init__(self, ...) — Object constructor, called when an instance is created.\n",
        "\n",
        "__str__(self) — Defines string representation of the object (used by print()).\n",
        "\n",
        "__repr__(self) — Official string representation, useful for debugging.\n",
        "\n",
        "__add__(self, other) — Defines behavior for the + operator.\n",
        "\n",
        "__len__(self) — Defines behavior for the len() function.\n",
        "\n",
        "__eq__(self, other) — Defines equality comparison (==).\n",
        "\n",
        "---\n"
      ],
      "metadata": {
        "id": "pPYkNXV7waz5"
      }
    },
    {
      "cell_type": "markdown",
      "source": [
        "#Qno 6. Explain the concept of inheritance in OOP.\n",
        "- Inheritance is a fundamental concept in OOP that allows a class (called the child class or subclass) to acquire the properties and behaviors (attributes and methods) of another class (called the parent class or superclass).\n",
        "\n",
        " Purpose of Inheritance\n",
        "Code Reusability: Instead of writing the same code again, a subclass can reuse code from the parent class.\n",
        "\n",
        " Extensibility: You can extend or modify inherited behavior in the subclass as needed.\n",
        "\n",
        " Hierarchy Modeling: It helps represent real-world relationships like “is-a” (e.g., a Dog is a type of Animal).\n",
        "\n",
        " Types of Inheritance\n",
        "Single Inheritance – One child inherits from one parent.\n",
        "\n",
        " Multiple Inheritance – One child inherits from multiple parents.\n",
        "\n",
        " Multilevel Inheritance – A child inherits from a parent, which itself is a child of another class.\n",
        "\n",
        " Hierarchical Inheritance – Multiple classes inherit from a single parent.\n",
        "\n",
        " Hybrid Inheritance – Combination of two or more types above.\n",
        "\n",
        "---\n",
        "\n",
        "\n"
      ],
      "metadata": {
        "id": "r3PjgKGNxArq"
      }
    },
    {
      "cell_type": "markdown",
      "source": [
        "#Qno 7. What is polymorphism in OOP?\n",
        "- Polymorphism in Object-Oriented Programming (OOP)\n",
        "Polymorphism means “many forms”, and in OOP, it refers to the ability of different classes to respond to the same method call in different ways. It allows a single interface to represent different underlying forms (data types or behaviors).\n",
        "\n",
        " Purpose of Polymorphism\n",
        "To allow functions, methods, or operators to work in different ways depending on the object they are acting upon.\n",
        "\n",
        " To increase code flexibility, scalability, and readability by using a common interface for different data types or classes.\n",
        "\n",
        " Types of Polymorphism\n",
        "Compile-time Polymorphism (Method Overloading) – Not natively supported in Python like in Java or C++, but can be simulated using default arguments.\n",
        "\n",
        " Run-time Polymorphism (Method Overriding) – When a subclass provides a specific implementation of a method that is already defined in its parent class.\n",
        "\n",
        "---\n"
      ],
      "metadata": {
        "id": "A9HxTpHQxVyA"
      }
    },
    {
      "cell_type": "markdown",
      "source": [
        "#Qno 8.  How is encapsulation achieved in Python?\n",
        "- Encapsulation in Python is achieved by restricting direct access to class attributes and methods, and controlling access through getter and setter methods.\n",
        "\n",
        " Here’s how it works:\n",
        "\n",
        "1. Using Access Modifiers\n",
        "Python uses naming conventions (not strict enforcement) to indicate access level:\n",
        "\n",
        " Public members: Can be accessed from anywhere.\n",
        "Example: self.name\n",
        "\n",
        " Protected members: Indicated by a single underscore _, meant to be accessed only within the class and its subclasses.\n",
        "Example: self._salary\n",
        "\n",
        " Private members: Indicated by a double underscore __, name-mangled to prevent direct access from outside.\n",
        "Example: self.__bank_balance\n",
        "\n",
        "2. Using Getter and Setter Methods\n",
        "To read or modify private data, Python uses getter and setter methods:"
      ],
      "metadata": {
        "id": "mrNvIzSQxor4"
      }
    },
    {
      "cell_type": "code",
      "source": [
        "class Employee:\n",
        "    def __init__(self):\n",
        "        self.__salary = 50000  # private attribute\n",
        "\n",
        "    def get_salary(self):     # getter\n",
        "        return self.__salary\n",
        "\n",
        "    def set_salary(self, amount):  # setter\n",
        "        if amount > 0:\n",
        "            self.__salary = amount\n"
      ],
      "metadata": {
        "id": "V3J2ltZjx-i5"
      },
      "execution_count": 2,
      "outputs": []
    },
    {
      "cell_type": "markdown",
      "source": [
        "---"
      ],
      "metadata": {
        "id": "XIoc8761yJ4Y"
      }
    },
    {
      "cell_type": "markdown",
      "source": [
        "#Qno 9. What is a constructor in Python?\n",
        "- A constructor in Python is a special method used to initialize objects when a class is instantiated. It is automatically called when a new object of the class is created.\n",
        "\n",
        " Python Constructor: __init__() Method\n",
        "In Python, the constructor is defined using the __init__() method.\n"
      ],
      "metadata": {
        "id": "LXhqWqcpyKrH"
      }
    },
    {
      "cell_type": "code",
      "source": [
        "class ClassName:\n",
        "    def __init__(self, parameters):\n",
        "        # initialization code\n"
      ],
      "metadata": {
        "id": "n3qvBR_hyXmY"
      },
      "execution_count": null,
      "outputs": []
    },
    {
      "cell_type": "markdown",
      "source": [
        "---\n"
      ],
      "metadata": {
        "id": "d1D3yJ87yZlV"
      }
    },
    {
      "cell_type": "markdown",
      "source": [
        "#Qno 10. What are class and static methods in Python?\n",
        "- 1. Class Method\n",
        "A class method is bound to the class, not the instance. It can access or modify class-level variables (shared among all instances).\n",
        "\n",
        " Key Points:\n",
        "Defined using the @classmethod decorator.\n",
        "\n",
        " Takes cls as the first parameter, referring to the class itself.\n",
        "\n",
        " Example:\n"
      ],
      "metadata": {
        "id": "_VpIizzzyqzR"
      }
    },
    {
      "cell_type": "code",
      "source": [
        "class School:\n",
        "    students = 0\n",
        "\n",
        "    @classmethod\n",
        "    def enroll(cls):\n",
        "        cls.students += 1\n",
        "        print(f\"Total students: {cls.students}\")\n"
      ],
      "metadata": {
        "id": "NYg721xFy9z3"
      },
      "execution_count": null,
      "outputs": []
    },
    {
      "cell_type": "markdown",
      "source": [
        "2. Static Method\n",
        "A static method does not take self or cls as the first argument. It behaves like a regular function but belongs to the class's namespace.\n",
        "\n",
        " Key Points:\n",
        " Defined using the @staticmethod decorator.\n",
        "\n",
        " Cannot access or modify class or instance attributes.\n",
        "\n",
        " Used for utility or helper functions.\n",
        "\n",
        " Example:"
      ],
      "metadata": {
        "id": "ZUCWcDqizAJ_"
      }
    },
    {
      "cell_type": "code",
      "source": [
        "class Math:\n",
        "    @staticmethod\n",
        "    def add(x, y):\n",
        "        return x + y\n"
      ],
      "metadata": {
        "id": "dixc_2aBzJin"
      },
      "execution_count": null,
      "outputs": []
    },
    {
      "cell_type": "markdown",
      "source": [
        "---"
      ],
      "metadata": {
        "id": "2qxGRUW2zLMn"
      }
    },
    {
      "cell_type": "markdown",
      "source": [
        "#Qno 11. What is method overloading in Python?\n",
        "- Method Overloading is a concept where multiple methods with the same name are defined in a class, but with different parameters (type or number). It's a form of compile-time polymorphism found in many languages like Java or C++.\n",
        "\n",
        " Python's Behavior\n",
        "Python does not support true method overloading directly. If you define multiple methods with the same name, only the last definition is used, as the previous ones get overwritten.\n",
        "\n",
        " How to Simulate Method Overloading in Python\n",
        "You can achieve similar behavior using:\n",
        "\n",
        " Default arguments\n",
        "\n",
        " Variable-length arguments (*args, **kwargs)\n",
        "\n",
        " Example using default and variable-length arguments:\n",
        "\n"
      ],
      "metadata": {
        "id": "ywRPDRBjzL8f"
      }
    },
    {
      "cell_type": "code",
      "source": [
        "class Greet:\n",
        "    def hello(self, name=None):\n",
        "        if name:\n",
        "            print(f\"Hello, {name}!\")\n",
        "        else:\n",
        "            print(\"Hello!\")\n",
        "\n",
        "g = Greet()\n",
        "g.hello()         # Output: Hello!\n",
        "g.hello(\"Ved\")    # Output: Hello, Ved!\n"
      ],
      "metadata": {
        "id": "Zc_tnSaPzg3_"
      },
      "execution_count": null,
      "outputs": []
    },
    {
      "cell_type": "markdown",
      "source": [
        "---"
      ],
      "metadata": {
        "id": "KRFGio3Izizm"
      }
    },
    {
      "cell_type": "markdown",
      "source": [
        "#Qno 12. What is method overriding in OOP?\n",
        "- Method Overriding is an object-oriented programming concept where a subclass provides a specific implementation of a method that is already defined in its parent (super) class.\n",
        "\n",
        " Key Characteristics:\n",
        "Method name and signature must be the same in both parent and child classes.\n",
        "\n",
        " It enables runtime polymorphism, where the method that gets called depends on the object’s actual class at runtime.\n",
        "\n",
        "  overridden method in the child class replaces the parent’s version for that instance.\n",
        "\n",
        " Purpose:\n",
        "To customize or extend behavior inherited from a parent class.\n",
        "\n",
        " To follow the “open/closed principle” — classes should be open for extension but closed for modification.\n",
        "---\n"
      ],
      "metadata": {
        "id": "Htp_MSxAzjbn"
      }
    },
    {
      "cell_type": "markdown",
      "source": [
        "#Qno 13. What is a property decorator in Python?\n",
        "- The property decorator in Python is used to define a getter method that allows you to access a method like an attribute, enabling controlled access to private variables while maintaining clean, readable syntax.\n",
        "\n",
        " Purpose:\n",
        "To implement encapsulation and data hiding.\n",
        "\n",
        " To manage internal state safely without changing how the attribute is accessed externally.\n",
        "\n",
        " To replace direct access with logic-controlled access while keeping the calling code clean.\n",
        "\n",
        " Basic Example:\n",
        ""
      ],
      "metadata": {
        "id": "DWPl26pJz4FO"
      }
    },
    {
      "cell_type": "code",
      "source": [
        "class Student:\n",
        "    def __init__(self, name):\n",
        "        self._name = name\n",
        "\n",
        "    @property\n",
        "    def name(self):  # Acts like a getter\n",
        "        return self._name\n",
        "\n",
        "    @name.setter\n",
        "    def name(self, new_name):  # Acts like a setter\n",
        "        if new_name != \"\":\n",
        "            self._name = new_name\n",
        "        else:\n",
        "            print(\"Invalid name!\")\n",
        "\n",
        "s = Student(\"Ved\")\n",
        "print(s.name)     # Access like an attribute: Ved\n",
        "s.name = \"Leo\"    # Setter is called\n",
        "print(s.name)     # Output: Leo\n"
      ],
      "metadata": {
        "id": "EJYABetz0WkG"
      },
      "execution_count": null,
      "outputs": []
    },
    {
      "cell_type": "markdown",
      "source": [
        "---"
      ],
      "metadata": {
        "id": "8dHTdKgt0ZPW"
      }
    },
    {
      "cell_type": "markdown",
      "source": [
        "#Qno 14. Why is polymorphism important in OOP?\n",
        "- Polymorphism is a cornerstone concept in OOP because it enables flexibility, scalability, and reusability in code. It allows objects of different classes to be treated through a common interface, making your systems more modular and easier to extend or maintain.\n",
        "\n",
        " Key Reasons Polymorphism Is Important:\n",
        "1. Code Reusability\n",
        "You can write general-purpose functions that work with objects of multiple classes.\n",
        "\n",
        " This reduces code duplication and improves consistency.\n",
        "\n",
        "2. Scalability and Extensibility\n",
        "New classes can be introduced without modifying existing code.\n",
        "\n",
        " You can add new behaviors through method overriding without breaking existing implementations.\n",
        "\n",
        "3. Interface-Based Programming\n",
        "You can use the same method call (e.g., draw(), speak(), calculate()) on objects of different classes, enhancing abstraction.\n",
        "\n",
        "4. Ease of Maintenance\n",
        "Centralized logic makes debugging and updates more manageable.\n",
        "\n",
        " Reduces tight coupling by programming to interfaces rather than implementations.\n",
        "\n",
        "---"
      ],
      "metadata": {
        "id": "gIt_GrGh0aIe"
      }
    },
    {
      "cell_type": "markdown",
      "source": [
        "#Qno 15. What is an abstract class in Python?\n",
        "- An abstract class in Python is a blueprint for other classes. It cannot be instantiated directly and is used to define a common interface for all its subclasses.\n",
        "\n",
        " Python provides abstract classes using the abc (Abstract Base Classes) module.\n",
        "\n",
        " Key Features:\n",
        "Declared using ABC from the abc module.\n",
        "\n",
        " Can have abstract methods (methods without implementation) and concrete methods (with implementation).\n",
        "\n",
        "  Enforces that subclasses must implement the abstract methods.\n",
        "\n",
        " Syntax Example:\n",
        ""
      ],
      "metadata": {
        "id": "MevjXiYz0uFl"
      }
    },
    {
      "cell_type": "code",
      "source": [
        "from abc import ABC, abstractmethod\n",
        "\n",
        "class Animal(ABC):  # Abstract class\n",
        "\n",
        "    @abstractmethod\n",
        "    def sound(self):  # Abstract method\n",
        "        pass\n",
        "\n",
        "    def breathe(self):  # Concrete method\n",
        "        print(\"Breathing...\")\n",
        "\n",
        "class Dog(Animal):\n",
        "    def sound(self):\n",
        "        print(\"Barks\")\n",
        "\n",
        "# a = Animal()  ❌ Error: can't instantiate abstract class\n",
        "d = Dog()\n",
        "d.sound()      # Output: Barks\n",
        "d.breathe()    # Output: Breathing...\n"
      ],
      "metadata": {
        "id": "adlZ67zQ0-N1"
      },
      "execution_count": null,
      "outputs": []
    },
    {
      "cell_type": "markdown",
      "source": [
        "---"
      ],
      "metadata": {
        "id": "b1FepidQ1Az1"
      }
    },
    {
      "cell_type": "markdown",
      "source": [
        "#Qno 16. What are the advantages of OOP?\n",
        "- Advantages of Object-Oriented Programming (OOP)\n",
        "Object-Oriented Programming offers a strategic approach to software design that brings numerous practical benefits, making it the preferred paradigm for complex and scalable applications.\n",
        "\n",
        "1. Modularity\n",
        "Code is organized into self-contained classes and objects.\n",
        "\n",
        " Each class represents a distinct module, making development and maintenance easier and more manageable.\n",
        "\n",
        "2. Reusability\n",
        "Classes and objects can be reused across different programs.\n",
        "\n",
        " Inheritance allows new classes to reuse existing code, reducing redundancy and development time.\n",
        "\n",
        "3. Scalability and Maintainability\n",
        "OOP systems are easier to scale because new functionalities can be added by creating new classes without affecting existing code.\n",
        "\n",
        " Encapsulation keeps internal details hidden, which simplifies maintenance and reduces errors.\n",
        "\n",
        "4. Data Security and Encapsulation\n",
        "Data hiding via private or protected members protects object integrity.\n",
        "\n",
        " Access to sensitive data is controlled through methods, ensuring safe manipulation.\n",
        "\n",
        "5. Flexibility through Polymorphism\n",
        "Different objects can be treated uniformly through common interfaces.\n",
        "\n",
        " Allows dynamic method binding and runtime decision-making, increasing flexibility.\n",
        "\n",
        "6. Improved Productivity\n",
        "Clear structure and reusability enhance team collaboration.\n",
        "\n",
        " Easier debugging and testing due to modular design.\n",
        "\n",
        "7. Real-world Modeling\n",
        "OOP naturally models real-world entities with attributes (data) and behaviors (methods).\n",
        "\n",
        " Improves clarity and communication between developers and stakeholders.\n",
        "\n",
        "---"
      ],
      "metadata": {
        "id": "2ykQoO031BSt"
      }
    },
    {
      "cell_type": "markdown",
      "source": [
        "#Qno 17. What is the difference between a class variable and an instance variable?\n",
        "- Difference Between Class Variable and Instance Variable\n",
        "Class Variable\n",
        "Definition: A variable that is shared among all instances of a class.\n",
        "\n",
        " Scope: Exists at the class level.\n",
        "\n",
        " Usage: Used for attributes common to all objects.\n",
        "\n",
        " Memory: Stored once, shared by all instances.\n",
        "\n",
        " Access: Can be accessed using the class name or through any instance.\n",
        ""
      ],
      "metadata": {
        "id": "R75U4Sc41T--"
      }
    },
    {
      "cell_type": "code",
      "source": [
        "class Car:\n",
        "    wheels = 4  # class variable\n",
        "\n",
        "car1 = Car()\n",
        "car2 = Car()\n",
        "print(car1.wheels)  # Output: 4\n",
        "print(car2.wheels)  # Output: 4\n"
      ],
      "metadata": {
        "id": "e2zTWAXE1kvd"
      },
      "execution_count": null,
      "outputs": []
    },
    {
      "cell_type": "markdown",
      "source": [
        "Instance Variable\n",
        "Definition: A variable that is unique to each instance of the class.\n",
        "\n",
        "Scope: Exists at the object (instance) level.\n",
        "\n",
        "Usage: Used for attributes specific to each object.\n",
        "\n",
        "Memory: Stored separately for each instance.\n",
        "\n",
        "Access: Accessed via the instance (using self).\n",
        "\n",
        "Example:"
      ],
      "metadata": {
        "id": "ZRZGiPgs1myt"
      }
    },
    {
      "cell_type": "code",
      "source": [
        "class Car:\n",
        "    def __init__(self, color):\n",
        "        self.color = color  # instance variable\n",
        "\n",
        "car1 = Car(\"Red\")\n",
        "car2 = Car(\"Blue\")\n",
        "print(car1.color)  # Output: Red\n",
        "print(car2.color)  # Output: Blue\n"
      ],
      "metadata": {
        "id": "Bs8-yDYZ1pad"
      },
      "execution_count": null,
      "outputs": []
    },
    {
      "cell_type": "markdown",
      "source": [
        "---"
      ],
      "metadata": {
        "id": "9w0w_kYi1q4l"
      }
    },
    {
      "cell_type": "markdown",
      "source": [
        "#Qno 18.  What is multiple inheritance in Python?\n",
        "- Multiple Inheritance is a feature in Python where a class can inherit attributes and methods from more than one parent class. This allows a derived class to combine behaviors and properties from multiple base classes.\n",
        "\n",
        " Key Points:\n",
        "A class can inherit from two or more classes by listing them in parentheses separated by commas.\n",
        "\n",
        " Useful for combining functionalities from different classes.\n",
        "\n",
        " Python uses the Method Resolution Order (MRO) to decide the order in which base classes are searched when calling methods.\n",
        "\n",
        " Syntax:\n",
        ""
      ],
      "metadata": {
        "id": "vUXpxSiY1rXt"
      }
    },
    {
      "cell_type": "code",
      "source": [
        "class Base1:\n",
        "    def method1(self):\n",
        "        print(\"Method from Base1\")\n",
        "\n",
        "class Base2:\n",
        "    def method2(self):\n",
        "        print(\"Method from Base2\")\n",
        "\n",
        "class Derived(Base1, Base2):\n",
        "    def method3(self):\n",
        "        print(\"Method from Derived\")\n",
        "\n",
        "d = Derived()\n",
        "d.method1()  # Output: Method from Base1\n",
        "d.method2()  # Output: Method from Base2\n",
        "d.method3()  # Output: Method from Derived\n"
      ],
      "metadata": {
        "id": "M_5L_oxR1858"
      },
      "execution_count": null,
      "outputs": []
    },
    {
      "cell_type": "markdown",
      "source": [
        "---"
      ],
      "metadata": {
        "id": "LVDmg3De1-3l"
      }
    },
    {
      "cell_type": "markdown",
      "source": [
        "#Qno 19.  Explain the purpose of ‘’__str__’ and ‘__repr__’ ‘ methods in Python ?\n",
        "- Both __str__ and __repr__ are special dunder methods in Python that control how objects are represented as strings. They serve related but distinct purposes, enhancing the readability and debugging experience of objects.\n",
        "\n",
        " __repr__ — Official String Representation\n",
        "Intended to provide an unambiguous and detailed representation of the object.\n",
        "\n",
        " Mainly used for debugging and development.\n",
        "\n",
        " Should return a string that, if possible, can be used to recreate the object.\n",
        "\n",
        " Called by the built-in function repr() and used in the interactive interpreter and debugging tools.\n",
        "\n",
        " Example:"
      ],
      "metadata": {
        "id": "ncdURt8H1_ZF"
      }
    },
    {
      "cell_type": "code",
      "source": [
        "class Person:\n",
        "    def __init__(self, name, age):\n",
        "        self.name = name\n",
        "        self.age = age\n",
        "\n",
        "    def __repr__(self):\n",
        "        return f\"Person(name='{self.name}', age={self.age})\"\n",
        "\n",
        "p = Person(\"Ved\", 21)\n",
        "print(repr(p))  # Output: Person(name='Ved', age=21)\n"
      ],
      "metadata": {
        "id": "1tTYijkL2b2U"
      },
      "execution_count": null,
      "outputs": []
    },
    {
      "cell_type": "markdown",
      "source": [
        "---"
      ],
      "metadata": {
        "id": "jyj69tje2da0"
      }
    },
    {
      "cell_type": "markdown",
      "source": [
        "#Qno 20 . What is the significance of the ‘super()’ function in Python?\n",
        "- The super() function plays a critical role in object-oriented programming in Python, especially in inheritance scenarios. It provides a reliable way to call methods from a parent (or superclass) without explicitly naming the parent class, enabling cleaner, more maintainable, and extensible code.\n",
        "\n",
        " Key Purposes of super():\n",
        "1. Access Parent Class Methods\n",
        "Allows a child class to invoke a method defined in its parent class.\n",
        "\n",
        " Essential when you want to extend or modify behavior rather than completely override it.\n",
        "\n",
        "2. Supports Multiple Inheritance\n",
        "Ensures correct method resolution order (MRO) in complex inheritance hierarchies.\n",
        "\n",
        " Helps avoid directly calling parent classes by name, which can lead to errors and duplicated code in multiple inheritance.\n",
        "\n",
        "3. Promotes Code Reusability and Maintainability\n",
        "Using super() means if the parent class name changes, you don’t need to update method calls in child classes.\n",
        "\n",
        " Simplifies class hierarchies by abstracting parent method calls.\n",
        "\n"
      ],
      "metadata": {
        "id": "lzaGfYNv2d2m"
      }
    },
    {
      "cell_type": "code",
      "source": [
        "class Vehicle:\n",
        "    def start(self):\n",
        "        print(\"Vehicle started\")\n",
        "\n",
        "class Car(Vehicle):\n",
        "    def start(self):\n",
        "        super().start()  # Calls Vehicle's start()\n",
        "        print(\"Car engine running\")\n",
        "\n",
        "c = Car()\n",
        "c.start()\n"
      ],
      "metadata": {
        "id": "wp18GS152wRs"
      },
      "execution_count": null,
      "outputs": []
    },
    {
      "cell_type": "markdown",
      "source": [
        "---"
      ],
      "metadata": {
        "id": "3bW-i6cs2xEk"
      }
    },
    {
      "cell_type": "markdown",
      "source": [
        "#Qno 21. What is the significance of the __del__ method in Python?\n",
        "- The __del__ method, also known as the destructor, is a special dunder method in Python that is called when an object is about to be destroyed—typically when its reference count reaches zero and the garbage collector is about to reclaim the object's memory.\n",
        "\n",
        " Key Purposes of __del__:\n",
        "1. Cleanup Actions\n",
        "Allows you to define cleanup code to release external resources such as:\n",
        "\n",
        " Open files\n",
        "\n",
        " Network connections\n",
        "\n",
        " Database connections\n",
        "\n",
        " Other system resources not managed automatically by Python\n",
        "\n",
        "2. Resource Management\n",
        "Helps ensure that necessary finalization or resource freeing happens before the object is removed from memory.\n",
        "\n",
        " Can be used to log or notify about object destruction (though this is less common).\n",
        "\n",
        " Important Notes:\n",
        "Python’s garbage collection is non-deterministic; the exact time when __del__ is called is not guaranteed.\n",
        "\n",
        " If there are circular references involving objects with __del__, it can delay or prevent the destructor from running.\n",
        "\n",
        " Relying heavily on __del__ is generally discouraged in favor of context managers (with statements) or explicit cleanup methods for predictable resource management."
      ],
      "metadata": {
        "id": "VHyPy7fU2xu-"
      }
    },
    {
      "cell_type": "markdown",
      "source": [
        "---"
      ],
      "metadata": {
        "id": "oZBi1f7A3GLk"
      }
    },
    {
      "cell_type": "markdown",
      "source": [
        "#Qno 23. How does polymorphism work in Python with inheritance?\n",
        "- How Polymorphism Works in Python with Inheritance\n",
        "Polymorphism is a core principle of Object-Oriented Programming (OOP) that allows objects of different classes related by inheritance to be treated through a common interface, enabling flexible and dynamic method behavior.\n",
        "\n",
        " Polymorphism in Python via Inheritance\n",
        "When a child class inherits from a parent class, it can override methods of the parent with its own implementation. Python’s dynamic typing and method resolution allow calling the same method name on objects of different subclasses, producing behavior specific to each subclass.\n",
        "\n",
        " Key Concepts:\n",
        "Method Overriding: Subclass provides its own version of a method defined in the parent class.\n",
        "\n",
        " Dynamic Dispatch: At runtime, Python determines which method implementation to execute based on the object’s actual class.\n",
        "\n",
        " Unified Interface: Code can interact with different objects through the same method calls without knowing the exact subclass type.\n",
        "\n",
        "---"
      ],
      "metadata": {
        "id": "Hx3qdFE73Gu8"
      }
    },
    {
      "cell_type": "markdown",
      "source": [
        "#Qno 24. What is method chaining in Python OOP?\n",
        "- Method chaining is a programming technique in object-oriented Python where multiple methods are called sequentially on the same object in a single statement. Each method returns the object itself (usually self), allowing the next method to be invoked directly on that returned object.\n",
        "\n",
        " Purpose and Significance:\n",
        "Improves code readability and fluency by linking multiple operations together.\n",
        "\n",
        " Enables a more expressive, concise syntax without repeating the object’s name.\n",
        "\n",
        " Encourages immutable or fluent interfaces, common in APIs and builder patterns.\n",
        "\n",
        " How Method Chaining Works:\n",
        "Each method performs its operation.\n",
        "\n",
        " Then returns self (the current object instance).\n",
        "\n",
        " This allows the next method in the chain to be called immediately.\n",
        "\n",
        "---"
      ],
      "metadata": {
        "id": "-lhWvY4i3bTb"
      }
    },
    {
      "cell_type": "markdown",
      "source": [
        "#Qno 25 . What is the purpose of the __call__ method in Python?\n",
        "- The __call__ method is a special dunder method that allows an instance of a class to be called like a function. When you implement __call__ in a class, you enable objects of that class to be invoked with parentheses () as if they were functions.\n",
        "\n",
        " Key Significance:\n",
        "Makes objects callable: Enables intuitive and flexible object usage.\n",
        "\n",
        " Implements function-like behavior: Useful for creating objects that behave like functions with internal state.\n",
        "\n",
        " Simplifies code: Allows encapsulating behavior within objects that can be executed directly.\n",
        "\n",
        " Commonly used in function wrappers, decorators, and callback implementations.\n",
        "\n",
        " Example:"
      ],
      "metadata": {
        "id": "bwUub2q03sas"
      }
    },
    {
      "cell_type": "code",
      "source": [
        "class Multiplier:\n",
        "    def __init__(self, factor):\n",
        "        self.factor = factor\n",
        "\n",
        "    def __call__(self, number):\n",
        "        return number * self.factor\n",
        "\n",
        "multiply_by_3 = Multiplier(3)\n",
        "result = multiply_by_3(10)  # Calls __call__\n",
        "print(result)  # Output: 30\n"
      ],
      "metadata": {
        "id": "jknDs2Tc35XL"
      },
      "execution_count": null,
      "outputs": []
    },
    {
      "cell_type": "markdown",
      "source": [
        "---"
      ],
      "metadata": {
        "id": "qIBMlJk237Lr"
      }
    },
    {
      "cell_type": "markdown",
      "source": [
        "---\n",
        "#Practical Question\n",
        "---"
      ],
      "metadata": {
        "id": "McEKqQKr37tr"
      }
    },
    {
      "cell_type": "markdown",
      "source": [
        "#Qno 1.  Create a parent class Animal with a method speak() that prints a generic message. Create a child class Dog that overrides the speak() method to print \"Bark!\".\n",
        "-\n"
      ],
      "metadata": {
        "id": "-EQMyqbh4Utj"
      }
    },
    {
      "cell_type": "code",
      "source": [
        "class Animal:\n",
        "    def speak(self):\n",
        "        print(\"This animal makes a sound\")\n",
        "\n",
        "class Dog(Animal):\n",
        "    def speak(self):\n",
        "        print(\"Bark!\")\n",
        "\n",
        "# Example usage\n",
        "dog = Dog()\n",
        "dog.speak()\n"
      ],
      "metadata": {
        "colab": {
          "base_uri": "https://localhost:8080/"
        },
        "id": "WdkPF-cQ403T",
        "outputId": "e2657fa3-d54a-46eb-f99b-9f354e82b384"
      },
      "execution_count": 3,
      "outputs": [
        {
          "output_type": "stream",
          "name": "stdout",
          "text": [
            "Bark!\n"
          ]
        }
      ]
    },
    {
      "cell_type": "markdown",
      "source": [
        "---"
      ],
      "metadata": {
        "id": "9nfprPGc4256"
      }
    },
    {
      "cell_type": "markdown",
      "source": [
        "#Qno 2.  Write a program to create an abstract class Shape with a method area(). Derive classes Circle and Rectangle from it and implement the area() method in both.\n",
        "-"
      ],
      "metadata": {
        "id": "H7aD_xFa43mS"
      }
    },
    {
      "cell_type": "code",
      "source": [
        "from abc import ABC, abstractmethod\n",
        "import math\n",
        "\n",
        "class Shape(ABC):\n",
        "    @abstractmethod\n",
        "    def area(self):\n",
        "        pass\n",
        "\n",
        "class Circle(Shape):\n",
        "    def __init__(self, radius):\n",
        "        self.radius = radius\n",
        "\n",
        "    def area(self):\n",
        "        return math.pi * self.radius ** 2\n",
        "\n",
        "class Rectangle(Shape):\n",
        "    def __init__(self, length, width):\n",
        "        self.length = length\n",
        "        self.width = width\n",
        "\n",
        "    def area(self):\n",
        "        return self.length * self.width\n",
        "\n",
        "# Example usage\n",
        "circle = Circle(5)\n",
        "rectangle = Rectangle(4, 6)\n",
        "\n",
        "print(\"Circle area:\", circle.area())\n",
        "print(\"Rectangle area:\", rectangle.area())\n"
      ],
      "metadata": {
        "colab": {
          "base_uri": "https://localhost:8080/"
        },
        "id": "pFI7mKAA4-2y",
        "outputId": "6653d10a-1176-4097-90f4-4bf39fab7f97"
      },
      "execution_count": 4,
      "outputs": [
        {
          "output_type": "stream",
          "name": "stdout",
          "text": [
            "Circle area: 78.53981633974483\n",
            "Rectangle area: 24\n"
          ]
        }
      ]
    },
    {
      "cell_type": "markdown",
      "source": [
        "---"
      ],
      "metadata": {
        "id": "xIvqLlH45Dqr"
      }
    },
    {
      "cell_type": "markdown",
      "source": [
        "#Qno 3. . Implement a multi-level inheritance scenario where a class Vehicle has an attribute type. Derive a class Car and further derive a class ElectricCar that adds a battery attribute.\n",
        "-"
      ],
      "metadata": {
        "id": "FXCftGnF5EQK"
      }
    },
    {
      "cell_type": "code",
      "source": [
        "class Vehicle:\n",
        "    def __init__(self, vehicle_type):\n",
        "        self.type = vehicle_type\n",
        "\n",
        "class Car(Vehicle):\n",
        "    def __init__(self, vehicle_type, brand):\n",
        "        super().__init__(vehicle_type)\n",
        "        self.brand = brand\n",
        "\n",
        "class ElectricCar(Car):\n",
        "    def __init__(self, vehicle_type, brand, battery):\n",
        "        super().__init__(vehicle_type, brand)\n",
        "        self.battery = battery\n",
        "\n",
        "# Example usage\n",
        "ev = ElectricCar(\"Four-wheeler\", \"Tesla\", \"100 kWh\")\n",
        "print(f\"Type: {ev.type}, Brand: {ev.brand}, Battery: {ev.battery}\")\n"
      ],
      "metadata": {
        "colab": {
          "base_uri": "https://localhost:8080/"
        },
        "id": "2_5jQaTi5Olq",
        "outputId": "cf1c5e02-c04d-4683-aa18-d58c03d02fc9"
      },
      "execution_count": 5,
      "outputs": [
        {
          "output_type": "stream",
          "name": "stdout",
          "text": [
            "Type: Four-wheeler, Brand: Tesla, Battery: 100 kWh\n"
          ]
        }
      ]
    },
    {
      "cell_type": "markdown",
      "source": [
        "---"
      ],
      "metadata": {
        "id": "Nox8na_v5P9K"
      }
    },
    {
      "cell_type": "markdown",
      "source": [
        "#QNo 4.  Demonstrate polymorphism by creating a base class Bird with a method fly(). Create two derived classes Sparrow and Penguin that override the fly() method.\n",
        "-"
      ],
      "metadata": {
        "id": "S79BA3jc5QqS"
      }
    },
    {
      "cell_type": "code",
      "source": [
        "class Bird:\n",
        "    def fly(self):\n",
        "        print(\"Bird is flying\")\n",
        "\n",
        "class Sparrow(Bird):\n",
        "    def fly(self):\n",
        "        print(\"Sparrow can fly\")\n",
        "\n",
        "class Penguin(Bird):\n",
        "    def fly(self):\n",
        "        print(\"Penguin cannot fly\")\n",
        "\n",
        "# Example usage\n",
        "birds = [Sparrow(), Penguin()]\n",
        "\n",
        "for bird in birds:\n",
        "    bird.fly()\n"
      ],
      "metadata": {
        "colab": {
          "base_uri": "https://localhost:8080/"
        },
        "id": "SXJFYzPH5ZmK",
        "outputId": "92ec3f1c-fc63-4f52-a96b-bba582cdff16"
      },
      "execution_count": 6,
      "outputs": [
        {
          "output_type": "stream",
          "name": "stdout",
          "text": [
            "Sparrow can fly\n",
            "Penguin cannot fly\n"
          ]
        }
      ]
    },
    {
      "cell_type": "markdown",
      "source": [
        "---"
      ],
      "metadata": {
        "id": "a4FXo8VC5ary"
      }
    },
    {
      "cell_type": "markdown",
      "source": [
        "#Qno 5.  Write a program to demonstrate encapsulation by creating a class BankAccount with private attributes balance and methods to deposit, withdraw, and check balance.\n",
        "-"
      ],
      "metadata": {
        "id": "5JyJWvkm5bJC"
      }
    },
    {
      "cell_type": "code",
      "source": [
        "class BankAccount:\n",
        "    def __init__(self, initial_balance=0):\n",
        "        self.__balance = initial_balance  # Private attribute\n",
        "\n",
        "    def deposit(self, amount):\n",
        "        if amount > 0:\n",
        "            self.__balance += amount\n",
        "\n",
        "    def withdraw(self, amount):\n",
        "        if 0 < amount <= self.__balance:\n",
        "            self.__balance -= amount\n",
        "\n",
        "    def check_balance(self):\n",
        "        return self.__balance\n",
        "\n",
        "# Example usage\n",
        "account = BankAccount(1000)\n",
        "account.deposit(500)\n",
        "account.withdraw(200)\n",
        "print(\"Balance:\", account.check_balance())\n"
      ],
      "metadata": {
        "colab": {
          "base_uri": "https://localhost:8080/"
        },
        "id": "-rqPKsfM5j6C",
        "outputId": "e865b882-3991-4d28-836c-bbb910a0d7a9"
      },
      "execution_count": 7,
      "outputs": [
        {
          "output_type": "stream",
          "name": "stdout",
          "text": [
            "Balance: 1300\n"
          ]
        }
      ]
    },
    {
      "cell_type": "markdown",
      "source": [
        "---"
      ],
      "metadata": {
        "id": "ODYm858M5lFq"
      }
    },
    {
      "cell_type": "markdown",
      "source": [
        "#Qno 6.  Demonstrate runtime polymorphism using a method play() in a base class Instrument. Derive classes Guitar and Piano that implement their own version of play().\n",
        "-"
      ],
      "metadata": {
        "id": "9-YhcMxs5lki"
      }
    },
    {
      "cell_type": "code",
      "source": [
        "class Instrument:\n",
        "    def play(self):\n",
        "        print(\"Playing instrument\")\n",
        "\n",
        "class Guitar(Instrument):\n",
        "    def play(self):\n",
        "        print(\"Playing guitar\")\n",
        "\n",
        "class Piano(Instrument):\n",
        "    def play(self):\n",
        "        print(\"Playing piano\")\n",
        "\n",
        "# Example usage\n",
        "instruments = [Guitar(), Piano()]\n",
        "\n",
        "for instrument in instruments:\n",
        "    instrument.play()\n"
      ],
      "metadata": {
        "colab": {
          "base_uri": "https://localhost:8080/"
        },
        "id": "5uOu-E135vd6",
        "outputId": "1ff4ec19-da44-421a-b55f-e8f4676e057f"
      },
      "execution_count": 8,
      "outputs": [
        {
          "output_type": "stream",
          "name": "stdout",
          "text": [
            "Playing guitar\n",
            "Playing piano\n"
          ]
        }
      ]
    },
    {
      "cell_type": "markdown",
      "source": [
        "---"
      ],
      "metadata": {
        "id": "U_rdZBmg5v7S"
      }
    },
    {
      "cell_type": "markdown",
      "source": [
        "#Qno 7 .  Create a class MathOperations with a class method add_numbers() to add two numbers and a static method subtract_numbers() to subtract two numbers.\n",
        "-"
      ],
      "metadata": {
        "id": "uLnnzxj25wQy"
      }
    },
    {
      "cell_type": "code",
      "source": [
        "class MathOperations:\n",
        "    @classmethod\n",
        "    def add_numbers(cls, a, b):\n",
        "        return a + b\n",
        "\n",
        "    @staticmethod\n",
        "    def subtract_numbers(a, b):\n",
        "        return a - b\n",
        "\n",
        "# Example usage\n",
        "print(MathOperations.add_numbers(10, 5))\n",
        "print(MathOperations.subtract_numbers(10, 5))\n"
      ],
      "metadata": {
        "colab": {
          "base_uri": "https://localhost:8080/"
        },
        "id": "xDf3VjB37bhQ",
        "outputId": "e8e3f222-169c-4893-ff38-37f55188ae4a"
      },
      "execution_count": 9,
      "outputs": [
        {
          "output_type": "stream",
          "name": "stdout",
          "text": [
            "15\n",
            "5\n"
          ]
        }
      ]
    },
    {
      "cell_type": "markdown",
      "source": [
        "---"
      ],
      "metadata": {
        "id": "04zZNTrW7dBY"
      }
    },
    {
      "cell_type": "markdown",
      "source": [
        "#Qno 8 .  Implement a class Person with a class method to count the total number of persons created.\n",
        "-"
      ],
      "metadata": {
        "id": "32ucDLEi7ddA"
      }
    },
    {
      "cell_type": "code",
      "source": [
        "class Person:\n",
        "    count = 0  # Class variable to keep track of number of persons\n",
        "\n",
        "    def __init__(self, name):\n",
        "        self.name = name\n",
        "        Person.count += 1\n",
        "\n",
        "    @classmethod\n",
        "    def total_persons(cls):\n",
        "        return cls.count\n",
        "\n",
        "# Example usage\n",
        "p1 = Person(\"Alice\")\n",
        "p2 = Person(\"Bob\")\n",
        "print(\"Total persons created:\", Person.total_persons())\n"
      ],
      "metadata": {
        "colab": {
          "base_uri": "https://localhost:8080/"
        },
        "id": "RlydHuDl7oIw",
        "outputId": "33a0e7d2-b6d1-4c6a-95db-a20bed774308"
      },
      "execution_count": 10,
      "outputs": [
        {
          "output_type": "stream",
          "name": "stdout",
          "text": [
            "Total persons created: 2\n"
          ]
        }
      ]
    },
    {
      "cell_type": "markdown",
      "source": [
        "---"
      ],
      "metadata": {
        "id": "NleaYdAX7p6g"
      }
    },
    {
      "cell_type": "markdown",
      "source": [
        "#Qno 9. Write a class Fraction with attributes numerator and denominator. Override the str method to display the fraction as \"numerator/denominator\"\n",
        "-"
      ],
      "metadata": {
        "id": "e-uN6LHg7qcp"
      }
    },
    {
      "cell_type": "code",
      "source": [
        "class Fraction:\n",
        "    def __init__(self, numerator, denominator):\n",
        "        self.numerator = numerator\n",
        "        self.denominator = denominator\n",
        "\n",
        "    def __str__(self):\n",
        "        return f\"{self.numerator}/{self.denominator}\"\n",
        "\n",
        "# Example usage\n",
        "frac = Fraction(3, 4)\n",
        "print(frac)\n"
      ],
      "metadata": {
        "colab": {
          "base_uri": "https://localhost:8080/"
        },
        "id": "C0OAX1_a713Q",
        "outputId": "054869b5-a4fe-4e51-861d-a3441391003e"
      },
      "execution_count": 11,
      "outputs": [
        {
          "output_type": "stream",
          "name": "stdout",
          "text": [
            "3/4\n"
          ]
        }
      ]
    },
    {
      "cell_type": "markdown",
      "source": [
        "---"
      ],
      "metadata": {
        "id": "zdQLsX-O73zx"
      }
    },
    {
      "cell_type": "markdown",
      "source": [
        "#Qno 10. Demonstrate operator overloading by creating a class Vector and overriding the add method to add two vectors.\n",
        "-"
      ],
      "metadata": {
        "id": "E27B_rPq74WI"
      }
    },
    {
      "cell_type": "code",
      "source": [
        "class Vector:\n",
        "    def __init__(self, x, y):\n",
        "        self.x = x\n",
        "        self.y = y\n",
        "\n",
        "    def __add__(self, other):\n",
        "        return Vector(self.x + other.x, self.y + other.y)\n",
        "\n",
        "    def __str__(self):\n",
        "        return f\"Vector({self.x}, {self.y})\"\n",
        "\n",
        "# Example usage\n",
        "v1 = Vector(2, 3)\n",
        "v2 = Vector(4, 1)\n",
        "v3 = v1 + v2\n",
        "print(v3)\n"
      ],
      "metadata": {
        "id": "tCk_wlCf8CLo"
      },
      "execution_count": null,
      "outputs": []
    },
    {
      "cell_type": "markdown",
      "source": [
        "---"
      ],
      "metadata": {
        "id": "JF0E6oxq8DGI"
      }
    },
    {
      "cell_type": "markdown",
      "source": [
        "#Qno 11. Create a class Person with attributes name and age. Add a method greet() that prints \"Hello, my name is {name} and I am {age} years old.\"\n",
        "-\n",
        "\n",
        "\n"
      ],
      "metadata": {
        "id": "R3q6Eygc8EOI"
      }
    },
    {
      "cell_type": "code",
      "source": [
        "class Person:\n",
        "    def __init__(self, name, age):\n",
        "        self.name = name\n",
        "        self.age = age\n",
        "\n",
        "    def greet(self):\n",
        "        print(f\"Hello, my name is {self.name} and I am {self.age} years old.\")\n",
        "\n",
        "# Example usage\n",
        "person = Person(\"Ved\", 21)\n",
        "person.greet()\n"
      ],
      "metadata": {
        "colab": {
          "base_uri": "https://localhost:8080/"
        },
        "id": "MSlraT2L8QZo",
        "outputId": "477361d2-79c0-4ae6-8a56-73ec3088723a"
      },
      "execution_count": 12,
      "outputs": [
        {
          "output_type": "stream",
          "name": "stdout",
          "text": [
            "Hello, my name is Ved and I am 21 years old.\n"
          ]
        }
      ]
    },
    {
      "cell_type": "markdown",
      "source": [
        "---"
      ],
      "metadata": {
        "id": "jfpCIoMi8SaI"
      }
    },
    {
      "cell_type": "markdown",
      "source": [
        "#Qno 12.  Implement a class Student with attributes name and grades. Create a method average_grade() to compute the average of the grades\n",
        "-"
      ],
      "metadata": {
        "id": "H0-40HEC8S2I"
      }
    },
    {
      "cell_type": "code",
      "source": [
        "class Student:\n",
        "    def __init__(self, name, grades):\n",
        "        self.name = name\n",
        "        self.grades = grades  # List of grades\n",
        "\n",
        "    def average_grade(self):\n",
        "        if not self.grades:\n",
        "            return 0\n",
        "        return sum(self.grades) / len(self.grades)\n",
        "\n",
        "# Example usage\n",
        "student = Student(\"Ved\", [85, 90, 78, 92])\n",
        "print(f\"Average grade of {student.name}: {student.average_grade()}\")\n"
      ],
      "metadata": {
        "colab": {
          "base_uri": "https://localhost:8080/"
        },
        "id": "m8iAK37L8akg",
        "outputId": "776c7135-618f-4ef7-e9a0-b3232b4839f0"
      },
      "execution_count": 13,
      "outputs": [
        {
          "output_type": "stream",
          "name": "stdout",
          "text": [
            "Average grade of Ved: 86.25\n"
          ]
        }
      ]
    },
    {
      "cell_type": "markdown",
      "source": [
        "---"
      ],
      "metadata": {
        "id": "88ymlibr8bsI"
      }
    },
    {
      "cell_type": "markdown",
      "source": [
        "#Qno 13. . Create a class Rectangle with methods set_dimensions() to set the dimensions and area() to calculate the area.\n",
        "-\n",
        "\n",
        "\n"
      ],
      "metadata": {
        "id": "hxI0XoAP8cgI"
      }
    },
    {
      "cell_type": "code",
      "source": [
        "class Rectangle:\n",
        "    def __init__(self):\n",
        "        self.length = 0\n",
        "        self.width = 0\n",
        "\n",
        "    def set_dimensions(self, length, width):\n",
        "        self.length = length\n",
        "        self.width = width\n",
        "\n",
        "    def area(self):\n",
        "        return self.length * self.width\n",
        "\n",
        "# Example usage\n",
        "rect = Rectangle()\n",
        "rect.set_dimensions(5, 3)\n",
        "print(\"Area:\", rect.area())\n"
      ],
      "metadata": {
        "colab": {
          "base_uri": "https://localhost:8080/"
        },
        "id": "xnoYU5U-8mDQ",
        "outputId": "37df01cb-95c6-420d-c688-e8a6173fad28"
      },
      "execution_count": 14,
      "outputs": [
        {
          "output_type": "stream",
          "name": "stdout",
          "text": [
            "Area: 15\n"
          ]
        }
      ]
    },
    {
      "cell_type": "markdown",
      "source": [
        "---\n",
        "#Qno 14. Create a class Employee with a method calculate_salary() that computes the salary based on hours worked and hourly rate. Create a derived class Manager that adds a bonus to the salary.\n",
        "-"
      ],
      "metadata": {
        "id": "rBd0vuvm8oDo"
      }
    },
    {
      "cell_type": "code",
      "source": [
        "class Employee:\n",
        "    def __init__(self, hours_worked, hourly_rate):\n",
        "        self.hours_worked = hours_worked\n",
        "        self.hourly_rate = hourly_rate\n",
        "\n",
        "    def calculate_salary(self):\n",
        "        return self.hours_worked * self.hourly_rate\n",
        "\n",
        "class Manager(Employee):\n",
        "    def __init__(self, hours_worked, hourly_rate, bonus):\n",
        "        super().__init__(hours_worked, hourly_rate)\n",
        "        self.bonus = bonus\n",
        "\n",
        "    def calculate_salary(self):\n",
        "        base_salary = super().calculate_salary()\n",
        "        return base_salary + self.bonus\n",
        "\n",
        "# Example usage\n",
        "emp = Employee(40, 20)\n",
        "mgr = Manager(40, 20, 500)\n",
        "\n",
        "print(\"Employee salary:\", emp.calculate_salary())\n",
        "print(\"Manager salary:\", mgr.calculate_salary())\n"
      ],
      "metadata": {
        "colab": {
          "base_uri": "https://localhost:8080/"
        },
        "id": "zowy4mKj8w-w",
        "outputId": "98bb2a9e-bfdc-40cc-ae50-b854436f9429"
      },
      "execution_count": 15,
      "outputs": [
        {
          "output_type": "stream",
          "name": "stdout",
          "text": [
            "Employee salary: 800\n",
            "Manager salary: 1300\n"
          ]
        }
      ]
    },
    {
      "cell_type": "markdown",
      "source": [
        "---"
      ],
      "metadata": {
        "id": "fEM6OU148yUo"
      }
    },
    {
      "cell_type": "markdown",
      "source": [
        "#Qno 15 .  Create a class Product with attributes name, price, and quantity. Implement a method total_price() that calculates the total price of the product.\n",
        "-"
      ],
      "metadata": {
        "id": "hJIcIsAN8yyg"
      }
    },
    {
      "cell_type": "code",
      "source": [
        "class Product:\n",
        "    def __init__(self, name, price, quantity):\n",
        "        self.name = name\n",
        "        self.price = price\n",
        "        self.quantity = quantity\n",
        "\n",
        "    def total_price(self):\n",
        "        return self.price * self.quantity\n",
        "\n",
        "# Example usage\n",
        "product = Product(\"Laptop\", 1000, 3)\n",
        "print(\"Total price:\", product.total_price())\n"
      ],
      "metadata": {
        "colab": {
          "base_uri": "https://localhost:8080/"
        },
        "id": "3aqUlLlF8_uf",
        "outputId": "f367416d-e102-4852-b77d-7568bdab1760"
      },
      "execution_count": 16,
      "outputs": [
        {
          "output_type": "stream",
          "name": "stdout",
          "text": [
            "Total price: 3000\n"
          ]
        }
      ]
    },
    {
      "cell_type": "markdown",
      "source": [
        "---"
      ],
      "metadata": {
        "id": "U1cPS7Rs9CmA"
      }
    },
    {
      "cell_type": "markdown",
      "source": [
        "#Qno 16 . Create a class Animal with an abstract method sound(). Create two derived classes Cow and Sheep that implement the sound() method.\n",
        "-"
      ],
      "metadata": {
        "id": "-O7sfHtE9DBH"
      }
    },
    {
      "cell_type": "code",
      "source": [
        "from abc import ABC, abstractmethod\n",
        "\n",
        "class Animal(ABC):\n",
        "    @abstractmethod\n",
        "    def sound(self):\n",
        "        pass\n",
        "\n",
        "class Cow(Animal):\n",
        "    def sound(self):\n",
        "        print(\"Moo\")\n",
        "\n",
        "class Sheep(Animal):\n",
        "    def sound(self):\n",
        "        print(\"Baa\")\n",
        "\n",
        "# Example usage\n",
        "cow = Cow()\n",
        "sheep = Sheep()\n",
        "\n",
        "cow.sound()\n",
        "sheep.sound()\n"
      ],
      "metadata": {
        "colab": {
          "base_uri": "https://localhost:8080/"
        },
        "id": "TF3HzuLb9I1X",
        "outputId": "587c40b0-d8d2-48ad-a9bb-540889370beb"
      },
      "execution_count": 17,
      "outputs": [
        {
          "output_type": "stream",
          "name": "stdout",
          "text": [
            "Moo\n",
            "Baa\n"
          ]
        }
      ]
    },
    {
      "cell_type": "markdown",
      "source": [
        "---"
      ],
      "metadata": {
        "id": "oi9D--oz9N-X"
      }
    },
    {
      "cell_type": "markdown",
      "source": [
        "#Qno 17 .  Create a class Book with attributes title, author, and year_published. Add a method get_book_info() that returns a formatted string with the book's details.\n",
        "-\n",
        "\n",
        "\n"
      ],
      "metadata": {
        "id": "Ti3fha3r9Ocf"
      }
    },
    {
      "cell_type": "code",
      "source": [
        "class Book:\n",
        "    def __init__(self, title, author, year_published):\n",
        "        self.title = title\n",
        "        self.author = author\n",
        "        self.year_published = year_published\n",
        "\n",
        "    def get_book_info(self):\n",
        "        return f\"'{self.title}' by {self.author}, published in {self.year_published}\"\n",
        "\n",
        "# Example usage\n",
        "book = Book(\"1984\", \"George Orwell\", 1949)\n",
        "print(book.get_book_info())\n"
      ],
      "metadata": {
        "colab": {
          "base_uri": "https://localhost:8080/"
        },
        "id": "-fTxgRYr9WtC",
        "outputId": "993d8cb4-0321-4b75-8212-18a5932875bc"
      },
      "execution_count": 18,
      "outputs": [
        {
          "output_type": "stream",
          "name": "stdout",
          "text": [
            "'1984' by George Orwell, published in 1949\n"
          ]
        }
      ]
    },
    {
      "cell_type": "markdown",
      "source": [
        "---"
      ],
      "metadata": {
        "id": "tnytvtTt9YGP"
      }
    },
    {
      "cell_type": "markdown",
      "source": [
        "#Qno 18. . Create a class House with attributes address and price. Create a derived class Mansion that adds an attribute number_of_rooms.\n"
      ],
      "metadata": {
        "id": "KgZmoBHV9YjP"
      }
    },
    {
      "cell_type": "code",
      "source": [
        "class House:\n",
        "    def __init__(self, address, price):\n",
        "        self.address = address\n",
        "        self.price = price\n",
        "\n",
        "class Mansion(House):\n",
        "    def __init__(self, address, price, number_of_rooms):\n",
        "        super().__init__(address, price)\n",
        "        self.number_of_rooms = number_of_rooms\n",
        "\n",
        "# Example usage\n",
        "mansion = Mansion(\"123 Luxury Lane\", 5000000, 10)\n",
        "print(f\"Address: {mansion.address}, Price: {mansion.price}, Rooms: {mansion.number_of_rooms}\")\n"
      ],
      "metadata": {
        "colab": {
          "base_uri": "https://localhost:8080/"
        },
        "id": "___idnDa9don",
        "outputId": "c779a97e-f666-48b7-cdfd-8ff40073e15b"
      },
      "execution_count": 19,
      "outputs": [
        {
          "output_type": "stream",
          "name": "stdout",
          "text": [
            "Address: 123 Luxury Lane, Price: 5000000, Rooms: 10\n"
          ]
        }
      ]
    },
    {
      "cell_type": "markdown",
      "source": [
        "---"
      ],
      "metadata": {
        "id": "sEfbmham9irH"
      }
    }
  ]
}