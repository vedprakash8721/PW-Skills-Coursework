{
  "nbformat": 4,
  "nbformat_minor": 0,
  "metadata": {
    "colab": {
      "provenance": []
    },
    "kernelspec": {
      "name": "python3",
      "display_name": "Python 3"
    },
    "language_info": {
      "name": "python"
    }
  },
  "cells": [
    {
      "cell_type": "markdown",
      "source": [
        "# Statistics Basics\n",
        "\n",
        "---"
      ],
      "metadata": {
        "id": "bLzftRN3_5Qp"
      }
    },
    {
      "cell_type": "markdown",
      "source": [
        "# Qno 1. What is statistics, and why is it important.\n",
        "- Statistics is a branch of mathematics that deals with the collection, organization, analysis, interpretation, and presentation of data. It helps in understanding data patterns and making informed decisions based on quantitative evidence.\n",
        "\n",
        " Why is it Important in Python and Data Science?\n",
        "\n",
        " Data Understanding:\n",
        "Statistics helps in summarizing large datasets using measures like mean, median, standard deviation, etc., giving insights into the data's central tendency and variability.\n",
        "\n",
        " Decision Making:\n",
        "Through hypothesis testing and probability distributions, statistics enables data-driven decisions with confidence levels and risk assessments.\n",
        "\n",
        " Model Building:\n",
        "Statistical concepts are foundational for building and evaluating machine learning models (e.g., regression, classification).\n",
        "\n",
        " Data Cleaning & Validation:\n",
        "Identifying outliers, missing values, and anomalies uses statistical tools, which improves data quality.\n",
        "\n",
        " Inference:\n",
        "It allows drawing conclusions about a population based on a sample, which is essential in business, research, and policy-making.\n",
        "\n",
        "---"
      ],
      "metadata": {
        "id": "QmCwv-uH__wh"
      }
    },
    {
      "cell_type": "markdown",
      "source": [
        "# Qno 2. What are the two main types of statistics.\n",
        "- 1. Descriptive Statistics\n",
        "Descriptive statistics summarize and describe the main features of a dataset. They help in understanding the basic characteristics of data without making predictions or generalizations.\n",
        "\n",
        " Key Components:\n",
        "\n",
        " Measures of Central Tendency: Mean, Median, Mode\n",
        "\n",
        " Measures of Dispersion: Range, Variance, Standard Deviation\n",
        "\n",
        " Data Visualization: Charts, Graphs, Tables\n",
        "\n",
        " Example (only if needed): Descriptive stats would tell you the average marks of a class from a list of student scores.\n",
        "\n",
        "2. Inferential Statistics\n",
        "Inferential statistics make predictions or inferences about a population based on a sample of data. It uses probability theory to estimate parameters and test hypotheses.\n",
        "\n",
        " Key Techniques:\n",
        "\n",
        " Hypothesis Testing\n",
        "\n",
        " onfidence Intervals\n",
        "\n",
        " Regression Analysis\n",
        "\n",
        " ANOVA (Analysis of Variance)\n",
        "\n",
        " This type helps answer questions like: “Is this product preferred by all  customers, or just the sample we surveyed?”\n",
        "\n",
        "\n",
        "---"
      ],
      "metadata": {
        "id": "1XdQ_XQeBDm7"
      }
    },
    {
      "cell_type": "markdown",
      "source": [
        "#Qno 3. What are descriptive statistics?\n",
        "- Descriptive Statistics are statistical methods used to summarize, organize, and simplify data. They provide a clear overview of the basic features of a dataset, allowing quick understanding without drawing any conclusions beyond the data itself.\n",
        "\n",
        "Key Components of Descriptive Statistics:\n",
        "Measures of Central Tendency:\n",
        "These indicate the center or typical value of the dataset.\n",
        "\n",
        "Mean: Arithmetic average\n",
        "\n",
        "Median: Middle value\n",
        "\n",
        "Mode: Most frequent value\n",
        "\n",
        "Measures of Dispersion (Spread):\n",
        "These show how much the data varies.\n",
        "\n",
        "Range: Difference between max and min values\n",
        "\n",
        "Variance: Average squared deviation from the mean\n",
        "\n",
        "Standard Deviation: Square root of variance (shows spread in original units)\n",
        "\n",
        "Measures of Position:\n",
        "\n",
        "Percentiles: Values below which a certain percentage of data falls\n",
        "\n",
        "Quartiles: Divide data into four equal parts\n",
        "\n",
        "Data Visualization Tools:\n",
        "\n",
        "Tables, bar charts, histograms, box plots, pie charts, etc.\n",
        "\n",
        "---"
      ],
      "metadata": {
        "id": "9z3IiGeJBfv6"
      }
    },
    {
      "cell_type": "markdown",
      "source": [
        "#Qno 4: What is inferential statistics.\n",
        "\n",
        "- Inferential Statistics is a branch of statistics used to make predictions, estimations, or generalizations about a larger population based on a sample of data. Unlike descriptive statistics, it goes beyond merely describing the data—it infers conclusions with a measurable level of certainty.\n",
        "\n",
        "Key Functions of Inferential Statistics:\n",
        "Estimating Population Parameters:\n",
        "Using sample data to estimate values like population mean or proportion.\n",
        "\n",
        "Hypothesis Testing:\n",
        "Determining whether a claim or assumption about a population is true, based on sample evidence.\n",
        "\n",
        "Confidence Intervals:\n",
        "Providing a range within which a population parameter is likely to fall, along with a confidence level (e.g., 95%).\n",
        "\n",
        "Regression Analysis:\n",
        "Modeling relationships between variables to predict future outcomes.\n",
        "\n",
        "---"
      ],
      "metadata": {
        "id": "wJckrT7eBxba"
      }
    },
    {
      "cell_type": "markdown",
      "source": [
        "#Qno 5: What is sampling in statistics\n",
        "- Sampling in statistics is the process of selecting a subset (sample) from a larger group (population) to analyze and draw conclusions about the entire population.\n",
        "\n",
        "Purpose of Sampling:\n",
        "To reduce cost and time involved in studying an entire population.\n",
        "\n",
        "To make data collection more manageable and feasible.\n",
        "\n",
        "To allow inference and prediction using statistical methods.\n",
        "\n",
        "Key Terms:\n",
        "Population: The complete set of items or individuals under study.\n",
        "\n",
        "Sample: A portion of the population selected for analysis.\n",
        "\n",
        "Sampling Frame: A list of elements from which the sample is drawn.\n",
        "\n",
        "Types of Sampling Methods:\n",
        "Probability Sampling (random-based):\n",
        "\n",
        "Each member has a known chance of being selected.\n",
        "\n",
        "Examples: Simple Random Sampling, Stratified Sampling, Cluster Sampling.\n",
        "\n",
        "Non-Probability Sampling (non-random):\n",
        "\n",
        "Not all members have a known or equal chance of selection.\n",
        "\n",
        "Examples: Convenience Sampling, Judgmental Sampling.\n",
        "\n",
        "---"
      ],
      "metadata": {
        "id": "bub-ZVmhCFab"
      }
    },
    {
      "cell_type": "markdown",
      "source": [
        "#Qno 6: What are the different types of sampling methods?\n",
        "- There are two broad categories of sampling methods in statistics: Probability Sampling and Non-Probability Sampling. Each category includes several techniques, depending on the goal and nature of the study.\n",
        "\n",
        "1. Probability Sampling\n",
        "In this method, every member of the population has a known and non-zero chance of being selected. This ensures objectivity and statistical validity.\n",
        "\n",
        "Types:\n",
        "Simple Random Sampling:\n",
        "Every member has an equal chance of selection. Selection is purely random (like lottery).\n",
        "\n",
        "Systematic Sampling:\n",
        "Select every k-th element from a list after a random start. For example, every 10th person.\n",
        "\n",
        "Stratified Sampling:\n",
        "Population is divided into subgroups (strata) based on a characteristic, and random samples are taken from each stratum.\n",
        "\n",
        "Cluster Sampling:\n",
        "Population is divided into clusters (often geographically), then some clusters are randomly selected, and all or some members are surveyed.\n",
        "\n",
        "2. Non-Probability Sampling\n",
        "Here, not all members have a known or equal chance of being selected. It's more subjective, and results may be biased.\n",
        "\n",
        "Types:\n",
        "Convenience Sampling:\n",
        "Select samples that are easiest to access (e.g., asking people in a mall).\n",
        "\n",
        "Judgmental or Purposive Sampling:\n",
        "The researcher selects participants based on their knowledge and judgment.\n",
        "\n",
        "Snowball Sampling:\n",
        "Existing subjects recruit future subjects. Common in studies involving hidden or hard-to-reach populations.\n",
        "\n",
        "Quota Sampling:\n",
        "The population is segmented into groups, and a fixed number of units are selected from each group, not necessarily at random.\n",
        "\n",
        "\n",
        "---\n"
      ],
      "metadata": {
        "id": "k8pRavbpCZXj"
      }
    },
    {
      "cell_type": "markdown",
      "source": [
        "#Qno 7: What is the difference between random and non-random sampling?\n",
        "\n",
        "-Difference Between Random and Non-Random Sampling:\n",
        "\n",
        "Definition:\n",
        "\n",
        "Random Sampling involves selecting samples such that every member of the population has a known and equal chance of being selected.\n",
        "\n",
        "Non-Random Sampling involves selecting samples based on the researcher's judgment, convenience, or other non-random criteria.\n",
        "\n",
        "Bias Risk:\n",
        "\n",
        "Random sampling minimizes the risk of selection bias.\n",
        "\n",
        "Non-random sampling has a higher risk of bias due to subjective selection.\n",
        "\n",
        "Selection Basis:\n",
        "\n",
        "Random sampling uses chance or probability-based mechanisms.\n",
        "\n",
        "Non-random sampling is based on ease of access or specific criteria.\n",
        "\n",
        "Representativeness:\n",
        "\n",
        "Random sampling is more likely to produce a sample that accurately represents the population.\n",
        "\n",
        "Non-random sampling may not fully represent the entire population.\n",
        "\n",
        "Examples:\n",
        "\n",
        "Random Sampling: Simple Random Sampling, Stratified Sampling, Cluster Sampling, Systematic Sampling.\n",
        "\n",
        "Non-Random Sampling: Convenience Sampling, Judgmental Sampling, Snowball Sampling, Quota Sampling.\n",
        "\n",
        "Use Case:\n",
        "\n",
        "Random sampling is used when statistical reliability and generalization to the population are important.\n",
        "\n",
        "Non-random sampling is used when time, budget, or accessibility constraints exist.\n",
        "\n",
        "\n",
        "\n",
        "---"
      ],
      "metadata": {
        "id": "i2s1GehaCqMq"
      }
    },
    {
      "cell_type": "markdown",
      "source": [
        "#Qno 8 : Define and give examples of qualitative and quantitative data.\n",
        "- Qualitative and Quantitative Data\n",
        "1. Qualitative Data (Categorical Data):\n",
        "Qualitative data describes non-numeric attributes or characteristics. It represents categories or labels.\n",
        "\n",
        "Features: Cannot be measured numerically; often textual.\n",
        "\n",
        "Types:\n",
        "\n",
        "Nominal: Categories with no natural order (e.g., gender, color).\n",
        "\n",
        "Ordinal: Categories with a meaningful order, but no fixed interval (e.g., education level, rankings).\n",
        "\n",
        "Examples:\n",
        "\n",
        "Colors: Red, Blue, Green\n",
        "\n",
        "Gender: Male, Female, Other\n",
        "\n",
        "Education Level: High School, Bachelor's, Master's\n",
        "\n",
        "2. Quantitative Data (Numerical Data):\n",
        "Quantitative data consists of numeric values that represent a measurable quantity.\n",
        "\n",
        "Features: Can be measured and subjected to mathematical operations.\n",
        "\n",
        "Types:\n",
        "\n",
        "Discrete: Countable, finite values (e.g., number of students).\n",
        "\n",
        "Continuous: Measurable on a scale with infinite values within a range (e.g., weight, height).\n",
        "\n",
        "Examples:\n",
        "\n",
        "Age: 21, 34, 45\n",
        "\n",
        "Temperature: 37.5°C, 22.8°C\n",
        "\n",
        "Marks scored: 87, 93, 76\n",
        "\n",
        "---"
      ],
      "metadata": {
        "id": "JLDkE5B7DH2q"
      }
    },
    {
      "cell_type": "markdown",
      "source": [
        "#Qno 9 :  What are the different types of data in statistics\n",
        "-Types of Data in Statistics\n",
        "Data in statistics is mainly categorized into two broad types, which are further divided into subtypes:\n",
        "\n",
        "1. Qualitative Data (Categorical Data):\n",
        "This type represents non-numeric characteristics or attributes.\n",
        "\n",
        "Nominal Data:\n",
        "Data with labels or names without any order.\n",
        "Example: Gender, Color, City names\n",
        "\n",
        "Ordinal Data:\n",
        "Data with a clear order or ranking, but the differences between ranks are not measurable.\n",
        "Example: Customer satisfaction (Satisfied, Neutral, Unsatisfied), Education level\n",
        "\n",
        "2. Quantitative Data (Numerical Data):\n",
        "This type includes data that can be measured and expressed numerically.\n",
        "\n",
        "Discrete Data:\n",
        "Countable values, often whole numbers.\n",
        "Example: Number of students, Number of cars\n",
        "\n",
        "Continuous Data:\n",
        "Can take any value within a range and is often measured.\n",
        "Example: Height, Weight, Temperature\n",
        "\n",
        "Summary:\n",
        "Qualitative → Nominal & Ordinal\n",
        "\n",
        "Quantitative → Discrete & Continuous\n",
        "\n",
        "---"
      ],
      "metadata": {
        "id": "bV6pw6iUDc7T"
      }
    },
    {
      "cell_type": "markdown",
      "source": [
        "#Qno 10 : Explain nominal, ordinal, interval, and ratio levels of measurement.\n",
        "- Levels of Measurement in Statistics\n",
        "There are four levels of measurement that define how data values can be categorized, compared, and analyzed:\n",
        "\n",
        "1. Nominal Level:\n",
        "Definition: Data is classified into distinct categories without any order or ranking.\n",
        "\n",
        "Characteristics: Purely labels or names.\n",
        "\n",
        "Mathematical Meaning: No arithmetic operations are applicable.\n",
        "\n",
        "Examples:\n",
        "\n",
        "Gender (Male, Female)\n",
        "\n",
        "Blood Type (A, B, AB, O)\n",
        "\n",
        "Colors (Red, Green, Blue)\n",
        "\n",
        "2. Ordinal Level:\n",
        "Definition: Data is categorized with a meaningful order or ranking, but the differences between values are not measurable.\n",
        "\n",
        "Characteristics: Order matters, but intervals are inconsistent.\n",
        "\n",
        "Examples:\n",
        "\n",
        "Education level (High School < Bachelor < Master < PhD)\n",
        "\n",
        "Customer satisfaction (Poor, Average, Good, Excellent)\n",
        "\n",
        "Rankings (1st, 2nd, 3rd)\n",
        "\n",
        "3. Interval Level:\n",
        "Definition: Data is ordered, and differences between values are meaningful, but there is no true zero point.\n",
        "\n",
        "Characteristics: Allows addition and subtraction, but ratios are not meaningful.\n",
        "\n",
        "Examples:\n",
        "\n",
        "Temperature in Celsius or Fahrenheit\n",
        "\n",
        "Calendar years (2000, 2025, etc.)\n",
        "\n",
        "4. Ratio Level:\n",
        "Definition: Data has all the properties of interval data, but with a true zero point, which allows meaningful ratios.\n",
        "\n",
        "Characteristics: Most powerful level; supports all arithmetic operations.\n",
        "\n",
        "Examples:\n",
        "\n",
        "Weight (0 kg means absence of weight)\n",
        "\n",
        "Height\n",
        "\n",
        "Income\n",
        "\n",
        "Age\n",
        "\n",
        "\n",
        "---"
      ],
      "metadata": {
        "id": "PBX3AzD4DqB6"
      }
    },
    {
      "cell_type": "markdown",
      "source": [
        "#Qno 11: What is the measure of central tendency.\n",
        "-Measure of Central Tendency\n",
        "The measure of central tendency refers to statistical metrics that identify the center or typical value of a dataset. These measures help summarize a large dataset with a single representative value.\n",
        "\n",
        "Common Measures:\n",
        "Mean (Arithmetic Average):\n",
        "\n",
        "Calculated by summing all values and dividing by the number of values.\n",
        "\n",
        "Sensitive to outliers.\n",
        "\n",
        "Median:\n",
        "\n",
        "The middle value when data is arranged in order.\n",
        "\n",
        "Not affected by extreme values, useful for skewed data.\n",
        "\n",
        "Mode:\n",
        "\n",
        "The value that occurs most frequently in the dataset.\n",
        "\n",
        "A dataset can have one mode, more than one mode, or no mode.\n",
        "\n",
        "Use Cases:\n",
        "Mean is best for symmetrical distributions.\n",
        "\n",
        "Median is better for skewed distributions or ordinal data.\n",
        "\n",
        "Mode is suitable for categorical data.\n",
        "\n",
        "\n",
        "\n",
        "---"
      ],
      "metadata": {
        "id": "GoGIDtiED_zS"
      }
    },
    {
      "cell_type": "markdown",
      "source": [
        "#Qno 12 : Define mean, median, and mode.\n",
        "- 1. Mean (Arithmetic Mean):\n",
        "The mean is the average of a dataset.\n",
        "It is calculated by adding all the values and dividing by the number of values.\n",
        "\n",
        "Formula:\n",
        "Mean = (Sum of all values) / (Number of values)\n",
        "\n",
        "Use: Suitable for normally distributed data.\n",
        "\n",
        "Note: Sensitive to extreme values (outliers).\n",
        "\n",
        "2. Median:\n",
        "The median is the middle value of a dataset when it is arranged in ascending or descending order.\n",
        "\n",
        "If the number of values is odd, the median is the middle value.\n",
        "\n",
        "If the number of values is even, the median is the average of the two middle values.\n",
        "\n",
        "Use: Best for skewed data or when outliers are present.\n",
        "\n",
        "Note: Less affected by extreme values.\n",
        "\n",
        "3. Mode:\n",
        "The mode is the value that occurs most frequently in a dataset.\n",
        "\n",
        "A dataset may have no mode, one mode (unimodal), two modes (bimodal), or multiple modes (multimodal).\n",
        "\n",
        "Use: Commonly used for categorical or nominal data.\n",
        "\n",
        "\n",
        "\n",
        "---"
      ],
      "metadata": {
        "id": "QOJIqEx2ELvC"
      }
    },
    {
      "cell_type": "markdown",
      "source": [
        "#Qno  13: What is the significance of the measure of central tendency.\n",
        "-Significance of the Measure of Central Tendency\n",
        "The measure of central tendency is crucial in statistics because it helps to:\n",
        "\n",
        "Summarize Large Datasets:\n",
        "It reduces a large amount of data into a single representative value, making complex data easier to understand and interpret.\n",
        "\n",
        "Identify the \"Typical\" Value:\n",
        "It gives insight into what is considered a normal or expected value within a dataset.\n",
        "\n",
        "Support Comparisons:\n",
        "Helps in comparing different datasets or distributions using their average behavior.\n",
        "\n",
        "Aid in Decision-Making:\n",
        "Central values guide business, policy, and research decisions by highlighting trends and patterns.\n",
        "\n",
        "Foundation for Other Analyses:\n",
        "It is the base for more advanced statistical methods like variance, standard deviation, regression, and hypothesis testing.\n",
        "\n",
        "\n",
        "---"
      ],
      "metadata": {
        "id": "6kqsXhQBEi3q"
      }
    },
    {
      "cell_type": "markdown",
      "source": [
        "#Qno 14: What is variance, and how is it calculated.\n",
        "- What is Variance?\n",
        "Variance is a measure of how much the values in a dataset deviate from the mean.\n",
        "It quantifies the spread of the data — how far each value lies from the average (mean).\n",
        "\n",
        "If variance is small, data points are close to the mean.\n",
        "\n",
        "If variance is large, data points are widely spread.\n",
        "\n",
        "How to Calculate Variance:\n",
        "Population Variance:\n",
        "Find the mean (average) of the data.\n",
        "\n",
        "Subtract the mean from each data point and square the result.\n",
        "\n",
        "Sum all the squared differences.\n",
        "\n",
        "Divide by the total number of data points (N).\n",
        "\n",
        "Formula:\n",
        "Variance = (Sum of squared differences from the mean) / N\n",
        "\n",
        "Sample Variance:\n",
        "Same steps as above, but in the final step, divide by (n - 1) instead of n.\n",
        "\n",
        "Formula:\n",
        "Variance = (Sum of squared differences from the mean) / (n - 1)\n",
        "\n",
        "Use N when working with the whole population.\n",
        "\n",
        "Use n - 1 when working with a sample (this is called Bessel’s correction).\n",
        "\n",
        "\n",
        "---"
      ],
      "metadata": {
        "id": "g41nBlzwExg7"
      }
    },
    {
      "cell_type": "markdown",
      "source": [
        "#Qno 15: What is standard deviation, and why is it important.\n",
        "- What is Standard Deviation?\n",
        "Standard Deviation is a statistical measure that shows the average distance of each data point from the mean of the dataset.\n",
        "It is the square root of the variance, making it more interpretable because it’s in the same unit as the original data.\n",
        "\n",
        "Why Is Standard Deviation Important?\n",
        "Measures Spread of Data:\n",
        "It tells how much the data varies or is dispersed around the mean.\n",
        "\n",
        "Easier Interpretation:\n",
        "Since it's in the same unit as the original data, it's more intuitive than variance (which is in squared units).\n",
        "\n",
        "Detects Consistency:\n",
        "\n",
        "Low standard deviation → Data is tightly clustered around the mean.\n",
        "\n",
        "High standard deviation → Data is more spread out.\n",
        "\n",
        "Used in Comparisons:\n",
        "Helps compare variability between different datasets, even if their means differ.\n",
        "\n",
        "Key for Statistical Analysis:\n",
        "Essential in calculating z-scores, confidence intervals, and many machine learning algorithms.\n",
        "\n",
        "\n",
        "\n",
        "---"
      ],
      "metadata": {
        "id": "2QPsNyP7FYM8"
      }
    },
    {
      "cell_type": "markdown",
      "source": [
        "#Qno 16 : Define and explain the term range in statistics.\n",
        "- What is Range in Statistics?\n",
        "Range is a basic measure of dispersion that represents the difference between the highest and lowest values in a dataset.\n",
        "\n",
        "How to Calculate Range:\n",
        "\n",
        "Range=Maximum Value−Minimum Value\n",
        "\n",
        "Range=Maximum Value−Minimum Value\n",
        "\n",
        "Purpose and Use:\n",
        "\n",
        "Measures Spread:\n",
        "It gives a quick sense of how spread out the data is.\n",
        "\n",
        "Easy to Calculate:\n",
        "Requires only two values (max and min), making it a simple and fast method.\n",
        "\n",
        "Sensitive to Outliers:\n",
        "A single very large or very small value can greatly affect the range.\n",
        "\n",
        "Example (if needed):\n",
        "If the dataset is: 10, 15, 20, 25, 30\n",
        "Then: Range = 30 - 10 = 20\n",
        "\n",
        "\n",
        "\n",
        "---"
      ],
      "metadata": {
        "id": "QLcLDKf_FmHb"
      }
    },
    {
      "cell_type": "markdown",
      "source": [
        "#Qno 17 : What is the difference between variance and standard deviation.\n",
        "- Difference Between Variance and Standard Deviation\n",
        "Definition:\n",
        "\n",
        "Variance measures the average squared deviation of each data point from the mean.\n",
        "\n",
        "Standard Deviation is the square root of the variance, representing the average deviation in the same unit as the data.\n",
        "\n",
        "Interpretability:\n",
        "\n",
        "Variance is in squared units of the original data (e.g., cm², kg²).\n",
        "\n",
        "Standard Deviation is in the same unit as the original data (e.g., cm, kg), making it more interpretable.\n",
        "\n",
        "Formula:\n",
        "\n",
        "Variance (for sample):\n",
        "variance = (sum of squared differences from mean) / (n - 1)\n",
        "\n",
        "Standard Deviation:\n",
        "standard deviation = square root of variance\n",
        "\n",
        "Use Case:\n",
        "\n",
        "Variance is mostly used in theoretical and intermediate calculations.\n",
        "\n",
        "Standard Deviation is widely used in practical applications and reporting, because it's more intuitive.\n",
        "\n",
        "Summary:\n",
        "Variance shows how spread out the data is, but in squared units.\n",
        "\n",
        "Standard deviation shows how far values are from the mean, in the original unit, making it easier to understand.\n",
        "\n",
        "\n",
        "---"
      ],
      "metadata": {
        "id": "YPyi7x_aGGH7"
      }
    },
    {
      "cell_type": "markdown",
      "source": [
        "#Qno 18 :  What is skewness in a dataset\n",
        "- What is Skewness in a Dataset?\n",
        "Skewness is a statistical measure that describes the asymmetry of a dataset’s distribution around its mean.\n",
        "\n",
        "A perfectly symmetrical dataset (like a normal distribution) has zero skewness.\n",
        "\n",
        "Skewness tells you whether the data leans more to the left or the right.\n",
        "\n",
        "Types of Skewness:\n",
        "Positive Skew (Right-Skewed):\n",
        "\n",
        "The tail on the right side is longer.\n",
        "\n",
        "Most data values are concentrated on the left.\n",
        "\n",
        "Mean > Median > Mode\n",
        "\n",
        "Negative Skew (Left-Skewed):\n",
        "\n",
        "The tail on the left side is longer.\n",
        "\n",
        "Most data values are concentrated on the right.\n",
        "\n",
        "Mean < Median < Mode\n",
        "\n",
        "Zero Skewness (Symmetrical Distribution):\n",
        "\n",
        "Both sides of the distribution are mirror images.\n",
        "\n",
        "Mean = Median = Mode\n",
        "\n",
        "Importance of Skewness:\n",
        "Helps in understanding data distribution and shape.\n",
        "\n",
        "Important for choosing appropriate statistical methods and models.\n",
        "\n",
        "Indicates the presence of outliers or extreme values in one direction.\n",
        "\n",
        "\n",
        "---"
      ],
      "metadata": {
        "id": "0IS0Lx3mGUFr"
      }
    },
    {
      "cell_type": "markdown",
      "source": [
        "#Qno 19 :  What does it mean if a dataset is positively or negatively skewed.\n",
        "- What Does It Mean if a Dataset is Positively or Negatively Skewed?\n",
        "1. Positively Skewed (Right-Skewed) Dataset:\n",
        "The right tail of the distribution is longer than the left.\n",
        "\n",
        "Most of the data values are concentrated on the left side, with a few larger values stretching the tail on the right.\n",
        "\n",
        "The mean is greater than the median, and the median is greater than the mode.\n",
        "\n",
        "Implication:\n",
        "There are outliers or extreme values on the higher end, which pull the average upward.\n",
        "\n",
        "2. Negatively Skewed (Left-Skewed) Dataset:\n",
        "The left tail of the distribution is longer than the right.\n",
        "\n",
        "Most of the data values are concentrated on the right side, with a few smaller values stretching the tail on the left.\n",
        "\n",
        "The mean is less than the median, and the median is less than the mode.\n",
        "\n",
        "Implication:\n",
        "There are outliers or extreme values on the lower end, which pull the average downward.\n",
        "\n",
        "Why It Matters:\n",
        "Skewness affects how the mean and median behave.\n",
        "\n",
        "It influences the choice of statistical techniques and whether data transformation is needed.\n",
        "\n",
        "\n",
        "---"
      ],
      "metadata": {
        "id": "KlcpctsVGoUk"
      }
    },
    {
      "cell_type": "markdown",
      "source": [
        "#Qno 20 :Define and explain kurtosis\n",
        "- What is Kurtosis?\n",
        "Kurtosis is a statistical measure that describes the \"tailedness\" or sharpness of the peak of a data distribution.\n",
        "It indicates how heavily the tails of a distribution differ from the tails of a normal distribution.\n",
        "\n",
        "Types of Kurtosis:\n",
        "Mesokurtic (Normal Kurtosis):\n",
        "\n",
        "Distribution has moderate tails and a normal peak.\n",
        "\n",
        "This is the kurtosis of a normal distribution.\n",
        "\n",
        "Kurtosis value ≈ 0 (after adjustment for normality)\n",
        "\n",
        "Leptokurtic (High Kurtosis):\n",
        "\n",
        "Distribution has heavier tails and a sharper peak.\n",
        "\n",
        "More values are located in the tails and near the mean.\n",
        "\n",
        "Indicates higher likelihood of outliers.\n",
        "\n",
        "Platykurtic (Low Kurtosis):\n",
        "\n",
        "Distribution has lighter tails and a flatter peak.\n",
        "\n",
        "Values are more evenly spread out.\n",
        "\n",
        "Indicates fewer extreme outliers.\n",
        "\n",
        "Why Is Kurtosis Important?\n",
        "Helps identify the risk of extreme values (outliers).\n",
        "\n",
        "Useful in financial modeling, quality control, and risk management.\n",
        "\n",
        "Provides insight into data distribution shape, beyond just skewness.\n",
        "\n",
        "\n",
        "---"
      ],
      "metadata": {
        "id": "sz5WAbOiG5iD"
      }
    },
    {
      "cell_type": "markdown",
      "source": [
        "#Qno 21 :  What is the purpose of covariance\n",
        "- What is the Purpose of Covariance?\n",
        "Covariance is a statistical measure used to determine the relationship between two variables — specifically, how they change together.\n",
        "\n",
        "Purpose of Covariance:\n",
        "Measure Direction of Relationship:\n",
        "\n",
        "Covariance tells whether two variables increase or decrease together.\n",
        "\n",
        "It shows the direction of the linear relationship (but not the strength).\n",
        "\n",
        "Interpret the Sign:\n",
        "\n",
        "Positive covariance: Both variables tend to increase or decrease together.\n",
        "\n",
        "Negative covariance: One variable increases while the other decreases.\n",
        "\n",
        "Zero covariance: No consistent pattern or linear relationship.\n",
        "\n",
        "Foundation for Correlation:\n",
        "\n",
        "Covariance is the basis for calculating correlation, which standardizes the measure to a fixed scale.\n",
        "\n",
        "Used in Multivariate Analysis:\n",
        "\n",
        "Covariance is essential in fields like portfolio optimization, PCA (Principal Component Analysis), and regression modeling.\n",
        "\n",
        "Limitations:\n",
        "Covariance only shows direction, not strength.\n",
        "\n",
        "The value depends on the scale of the data, making interpretation harder compared to correlation.\n",
        "\n",
        "---"
      ],
      "metadata": {
        "id": "RKRV17KGHJBk"
      }
    },
    {
      "cell_type": "markdown",
      "source": [
        "#Qno 22 : What does correlation measure in statistics.\n",
        "- What Does Correlation Measure in Statistics?\n",
        "Correlation is a statistical measure that describes the strength and direction of a linear relationship between two variables.\n",
        "\n",
        "Key Features:\n",
        "Direction:\n",
        "\n",
        "Positive correlation: Both variables increase or decrease together.\n",
        "\n",
        "Negative correlation: One variable increases while the other decreases.\n",
        "\n",
        "Strength:\n",
        "\n",
        "Measured by the correlation coefficient (usually Pearson’s r), which ranges from -1 to +1.\n",
        "\n",
        "+1: Perfect positive correlation\n",
        "\n",
        "0: No correlation\n",
        "\n",
        "-1: Perfect negative correlation\n",
        "\n",
        "Scale-Free:\n",
        "\n",
        "Unlike covariance, correlation is normalized, so it is not affected by the scale or units of the variables.\n",
        "\n",
        "Why Is Correlation Important?\n",
        "Helps identify patterns and associations between variables.\n",
        "\n",
        "Useful in feature selection for machine learning models.\n",
        "\n",
        "Helps in predictive analysis, risk management, and decision-making.\n",
        "\n",
        "\n",
        "---"
      ],
      "metadata": {
        "id": "CASysir-HWnL"
      }
    },
    {
      "cell_type": "markdown",
      "source": [
        "#Qno 23: What is the difference between covariance and correlation.\n",
        "- Difference Between Covariance and Correlation\n",
        "1. Definition:\n",
        "Covariance measures the direction of the linear relationship between two variables (how they change together).\n",
        "\n",
        "Correlation measures both the strength and direction of the linear relationship between two variables.\n",
        "\n",
        "2. Scale Dependency:\n",
        "Covariance is not scale-independent; its value depends on the units of the variables involved, making interpretation difficult.\n",
        "\n",
        "Correlation is scale-independent, as it standardizes the values to a range between -1 and +1.\n",
        "\n",
        "3. Value Range:\n",
        "Covariance can take any value, positive or negative, without a fixed range.\n",
        "\n",
        "Correlation is always between -1 and +1.\n",
        "\n",
        "4. Interpretability:\n",
        "Covariance indicates only the direction of the relationship (positive, negative, or none).\n",
        "\n",
        "Correlation provides both the direction and strength of the relationship.\n",
        "\n",
        "5. Formula Relationship:\n",
        "Correlation is derived from covariance using the formula:\n",
        "\n",
        "Correlation = Covariance / (Standard deviation of X × Standard deviation of Y)\n",
        "\n",
        "\n",
        "---"
      ],
      "metadata": {
        "id": "gVlqtDWhHmPD"
      }
    },
    {
      "cell_type": "markdown",
      "source": [
        "#Qno 24 : What are some real-world applications of statistics.\n",
        "- Real-World Applications of Statistics\n",
        "Statistics is used across nearly every industry and field to analyze data, make decisions, and solve problems based on evidence. Here are some key areas where statistics play a crucial role:\n",
        "\n",
        "1. Business and Marketing:\n",
        "Analyzing customer behavior and market trends\n",
        "\n",
        "Forecasting sales and revenue\n",
        "\n",
        "A/B testing for product or ad performance\n",
        "\n",
        "Customer segmentation and targeting\n",
        "\n",
        "2. Healthcare and Medicine:\n",
        "Clinical trials and drug efficacy studies\n",
        "\n",
        "Patient data analysis and diagnosis prediction\n",
        "\n",
        "Public health statistics (e.g., disease spread models)\n",
        "\n",
        "Risk analysis and treatment planning\n",
        "\n",
        "3. Government and Public Policy:\n",
        "Census and population surveys\n",
        "\n",
        "Economic indicators (inflation, GDP, unemployment)\n",
        "\n",
        "Policy impact evaluation\n",
        "\n",
        "Crime rate analysis and resource allocation\n",
        "\n",
        "4. Education:\n",
        "Student performance analysis\n",
        "\n",
        "Evaluating teaching methods\n",
        "\n",
        "Standardized test scoring\n",
        "\n",
        "Predictive analytics for student success\n",
        "\n",
        "5. Sports and Performance Analytics:\n",
        "Player and team performance tracking\n",
        "\n",
        "Strategy optimization\n",
        "\n",
        "Injury prediction and prevention\n",
        "\n",
        "Fan engagement analysis\n",
        "\n",
        "6. Technology and Data Science:\n",
        "Machine learning model training and evaluation\n",
        "\n",
        "Data mining and pattern recognition\n",
        "\n",
        "Anomaly detection in systems or networks\n",
        "\n",
        "Natural language processing and recommendation systems\n",
        "\n",
        "7. Finance and Economics:\n",
        "Stock market prediction\n",
        "\n",
        "Risk assessment and portfolio optimization\n",
        "\n",
        "Credit scoring\n",
        "\n",
        "Economic modeling and forecasting\n",
        "\n",
        "\n",
        "---"
      ],
      "metadata": {
        "id": "npiJru1lH1fV"
      }
    },
    {
      "cell_type": "markdown",
      "source": [
        "# Practical\n",
        "\n",
        "---"
      ],
      "metadata": {
        "id": "o_vFkzpRIDB8"
      }
    },
    {
      "cell_type": "markdown",
      "source": [
        "#Qno 1 : How do you calculate the mean, median, and mode of a dataset"
      ],
      "metadata": {
        "id": "9jl_UHhNIJLD"
      }
    },
    {
      "cell_type": "code",
      "source": [
        "import statistics\n",
        "\n",
        "# Sample dataset\n",
        "data = [10, 20, 30, 40, 40, 50, 60]\n",
        "\n",
        "# Mean\n",
        "mean_value = statistics.mean(data)\n",
        "\n",
        "# Median\n",
        "median_value = statistics.median(data)\n",
        "\n",
        "# Mode\n",
        "mode_value = statistics.mode(data)\n",
        "\n",
        "print(\"Mean:\", mean_value)\n",
        "print(\"Median:\", median_value)\n",
        "print(\"Mode:\", mode_value)\n"
      ],
      "metadata": {
        "colab": {
          "base_uri": "https://localhost:8080/"
        },
        "id": "TOx0cxjhIWNN",
        "outputId": "9f937401-9a75-45f8-8549-3bfedc3d50af"
      },
      "execution_count": 1,
      "outputs": [
        {
          "output_type": "stream",
          "name": "stdout",
          "text": [
            "Mean: 35.714285714285715\n",
            "Median: 40\n",
            "Mode: 40\n"
          ]
        }
      ]
    },
    {
      "cell_type": "markdown",
      "source": [
        "---"
      ],
      "metadata": {
        "id": "tcWpA4EyIaD9"
      }
    },
    {
      "cell_type": "markdown",
      "source": [
        "#Qno 2 : Write a Python program to compute the variance and standard deviation of a dataset.\n",
        "-"
      ],
      "metadata": {
        "id": "o8rtNAM_IbB0"
      }
    },
    {
      "cell_type": "code",
      "source": [
        "import statistics\n",
        "\n",
        "# Sample dataset\n",
        "data = [10, 20, 30, 40, 50]\n",
        "\n",
        "# Calculate variance\n",
        "variance_value = statistics.variance(data)  # Sample variance\n",
        "\n",
        "# Calculate standard deviation\n",
        "std_deviation = statistics.stdev(data)  # Sample standard deviation\n",
        "\n",
        "print(\"Variance:\", variance_value)\n",
        "print(\"Standard Deviation:\", std_deviation)\n"
      ],
      "metadata": {
        "colab": {
          "base_uri": "https://localhost:8080/"
        },
        "id": "m5gH3BxRInUN",
        "outputId": "1620b156-eca4-4020-bef6-6f5cc9599957"
      },
      "execution_count": 2,
      "outputs": [
        {
          "output_type": "stream",
          "name": "stdout",
          "text": [
            "Variance: 250\n",
            "Standard Deviation: 15.811388300841896\n"
          ]
        }
      ]
    },
    {
      "cell_type": "markdown",
      "source": [
        "---"
      ],
      "metadata": {
        "id": "J5U97fkYIo0L"
      }
    },
    {
      "cell_type": "markdown",
      "source": [
        "#Qno 3 : Create a dataset and classify it into nominal, ordinal, interval, and ratio types.\n",
        "-"
      ],
      "metadata": {
        "id": "LCxiATidIpd8"
      }
    },
    {
      "cell_type": "code",
      "source": [
        "# Sample dataset\n",
        "data = {\n",
        "    \"Name\": [\"Ved\", \"Ayan\", \"Riya\"],                  # Nominal\n",
        "    \"Grade\": [\"B\", \"A\", \"C\"],                         # Ordinal\n",
        "    \"Temperature\": [22, 25, 24],                      # Interval\n",
        "    \"Height_cm\": [170, 165, 180]                      # Ratio\n",
        "}\n",
        "\n",
        "# Classification\n",
        "print(\"Nominal     : Name (No order, just labels)\")\n",
        "print(\"Ordinal     : Grade (Ordered categories)\")\n",
        "print(\"Interval    : Temperature (Numeric, no true zero)\")\n",
        "print(\"Ratio       : Height_cm (Numeric, true zero exists)\")\n"
      ],
      "metadata": {
        "colab": {
          "base_uri": "https://localhost:8080/"
        },
        "id": "D-8xUaWRIxsE",
        "outputId": "09cb5d50-c68e-40d0-b663-693b689ddc43"
      },
      "execution_count": 4,
      "outputs": [
        {
          "output_type": "stream",
          "name": "stdout",
          "text": [
            "Nominal     : Name (No order, just labels)\n",
            "Ordinal     : Grade (Ordered categories)\n",
            "Interval    : Temperature (Numeric, no true zero)\n",
            "Ratio       : Height_cm (Numeric, true zero exists)\n"
          ]
        }
      ]
    },
    {
      "cell_type": "markdown",
      "source": [
        "---"
      ],
      "metadata": {
        "id": "NfXLBnEZJDFc"
      }
    },
    {
      "cell_type": "markdown",
      "source": [
        "#Qno 4 : Implement sampling techniques like random sampling and stratified sampling"
      ],
      "metadata": {
        "id": "ble8bK1qJD0c"
      }
    },
    {
      "cell_type": "code",
      "source": [
        "import pandas as pd\n",
        "from sklearn.model_selection import train_test_split\n",
        "\n",
        "# Create a sample DataFrame\n",
        "data = {\n",
        "    'Name': ['Ved', 'Ayan', 'Riya', 'Neha', 'Ankit', 'Sana', 'Arjun', 'Zara'],\n",
        "    'Gender': ['Male', 'Male', 'Female', 'Female', 'Male', 'Female', 'Male', 'Female'],\n",
        "    'Marks': [85, 90, 78, 88, 75, 92, 70, 95]\n",
        "}\n",
        "\n",
        "df = pd.DataFrame(data)\n",
        "print(\"Original Dataset:\\n\", df)\n",
        "\n",
        "# ------------------------\n",
        "# Random Sampling (e.g., 50%)\n",
        "# ------------------------\n",
        "random_sample = df.sample(frac=0.5, random_state=1)\n",
        "print(\"\\nRandom Sample (50%):\\n\", random_sample)\n",
        "\n",
        "# ------------------------\n",
        "# Stratified Sampling based on 'Gender'\n",
        "# ------------------------\n",
        "# Use sklearn's train_test_split with stratify option\n",
        "stratified_sample, _ = train_test_split(df, test_size=0.5, stratify=df['Gender'], random_state=1)\n",
        "print(\"\\nStratified Sample by Gender:\\n\", stratified_sample)\n"
      ],
      "metadata": {
        "colab": {
          "base_uri": "https://localhost:8080/"
        },
        "id": "8OX-tdmQJJK1",
        "outputId": "d2b5c481-8307-4819-b06a-1180c865a19c"
      },
      "execution_count": 5,
      "outputs": [
        {
          "output_type": "stream",
          "name": "stdout",
          "text": [
            "Original Dataset:\n",
            "     Name  Gender  Marks\n",
            "0    Ved    Male     85\n",
            "1   Ayan    Male     90\n",
            "2   Riya  Female     78\n",
            "3   Neha  Female     88\n",
            "4  Ankit    Male     75\n",
            "5   Sana  Female     92\n",
            "6  Arjun    Male     70\n",
            "7   Zara  Female     95\n",
            "\n",
            "Random Sample (50%):\n",
            "     Name  Gender  Marks\n",
            "7   Zara  Female     95\n",
            "2   Riya  Female     78\n",
            "1   Ayan    Male     90\n",
            "6  Arjun    Male     70\n",
            "\n",
            "Stratified Sample by Gender:\n",
            "     Name  Gender  Marks\n",
            "4  Ankit    Male     75\n",
            "0    Ved    Male     85\n",
            "7   Zara  Female     95\n",
            "5   Sana  Female     92\n"
          ]
        }
      ]
    },
    {
      "cell_type": "markdown",
      "source": [
        "---"
      ],
      "metadata": {
        "id": "ItegytQ8JRK8"
      }
    },
    {
      "cell_type": "markdown",
      "source": [
        "#Qno 5 : Write a Python function to calculate the range of a dataset.\n",
        "-"
      ],
      "metadata": {
        "id": "fYroZJJgJR5e"
      }
    },
    {
      "cell_type": "code",
      "source": [
        "def calculate_range(data):\n",
        "    return max(data) - min(data)\n",
        "\n",
        "# Example usage\n",
        "dataset = [10, 20, 30, 45, 60]\n",
        "result = calculate_range(dataset)\n",
        "\n",
        "print(\"Range of the dataset:\", result)\n"
      ],
      "metadata": {
        "colab": {
          "base_uri": "https://localhost:8080/"
        },
        "id": "RQ-kavR-JbdE",
        "outputId": "8a7e1ee2-b6c0-4da9-b202-7b1be11e1955"
      },
      "execution_count": 6,
      "outputs": [
        {
          "output_type": "stream",
          "name": "stdout",
          "text": [
            "Range of the dataset: 50\n"
          ]
        }
      ]
    },
    {
      "cell_type": "markdown",
      "source": [
        "---"
      ],
      "metadata": {
        "id": "X2RyQryNJcwl"
      }
    },
    {
      "cell_type": "markdown",
      "source": [
        "#Qno 6 : Create a dataset and plot its histogram to visualize skewness\n"
      ],
      "metadata": {
        "id": "zpcyrMR8JdUs"
      }
    },
    {
      "cell_type": "code",
      "source": [
        "import matplotlib.pyplot as plt\n",
        "\n",
        "# Create a right-skewed (positively skewed) dataset\n",
        "data = [5, 7, 8, 9, 10, 10, 11, 13, 15, 18, 25, 30, 35, 40, 50]\n",
        "\n",
        "# Plot histogram\n",
        "plt.hist(data, bins=8, color='skyblue', edgecolor='black')\n",
        "plt.title('Histogram to Visualize Skewness')\n",
        "plt.xlabel('Values')\n",
        "plt.ylabel('Frequency')\n",
        "plt.grid(True)\n",
        "plt.show()\n"
      ],
      "metadata": {
        "colab": {
          "base_uri": "https://localhost:8080/",
          "height": 472
        },
        "id": "u_InUSXMJjtN",
        "outputId": "ae03d8c4-1350-4333-b990-5ea51f185b28"
      },
      "execution_count": 7,
      "outputs": [
        {
          "output_type": "display_data",
          "data": {
            "text/plain": [
              "<Figure size 640x480 with 1 Axes>"
            ],
            "image/png": "[encoded data removed]"
          },
          "metadata": {}
        }
      ]
    },
    {
      "cell_type": "markdown",
      "source": [
        "---"
      ],
      "metadata": {
        "id": "Q1d6u9Q9JvP0"
      }
    },
    {
      "cell_type": "markdown",
      "source": [
        "#Qno 7: Calculate skewness and kurtosis of a dataset using Python libraries\n"
      ],
      "metadata": {
        "id": "d3MU-LzIJv7s"
      }
    },
    {
      "cell_type": "code",
      "source": [
        "import pandas as pd\n",
        "from scipy.stats import skew, kurtosis\n",
        "\n",
        "# Sample dataset\n",
        "data = [10, 12, 15, 18, 20, 22, 24, 27, 30, 35, 100]  # right-skewed\n",
        "\n",
        "# Convert to pandas Series\n",
        "series = pd.Series(data)\n",
        "\n",
        "# Calculate skewness\n",
        "skew_value = skew(series)\n",
        "\n",
        "# Calculate kurtosis\n",
        "kurtosis_value = kurtosis(series)  # By default, it gives excess kurtosis\n",
        "\n",
        "print(\"Skewness:\", skew_value)\n",
        "print(\"Kurtosis:\", kurtosis_value)\n"
      ],
      "metadata": {
        "colab": {
          "base_uri": "https://localhost:8080/"
        },
        "id": "rEtEJcxbJ5l1",
        "outputId": "be71dc69-a441-4057-b821-f705f1918e61"
      },
      "execution_count": 8,
      "outputs": [
        {
          "output_type": "stream",
          "name": "stdout",
          "text": [
            "Skewness: 2.385707047093976\n",
            "Kurtosis: 4.565652014585351\n"
          ]
        }
      ]
    },
    {
      "cell_type": "markdown",
      "source": [
        "---"
      ],
      "metadata": {
        "id": "PCEiPON0J-3u"
      }
    },
    {
      "cell_type": "markdown",
      "source": [
        "#Qno 8 : Generate a dataset and demonstrate positive and negative skewness.\n",
        "-"
      ],
      "metadata": {
        "id": "RkuC7ccuJ_V9"
      }
    },
    {
      "cell_type": "code",
      "source": [
        "import numpy as np\n",
        "import matplotlib.pyplot as plt\n",
        "from scipy.stats import skew\n",
        "\n",
        "# Generate positively skewed data (right-skewed)\n",
        "positive_skew = np.random.exponential(scale=2, size=1000)\n",
        "\n",
        "# Generate negatively skewed data (left-skewed)\n",
        "negative_skew = -1 * np.random.exponential(scale=2, size=1000)\n",
        "\n",
        "# Plot both histograms\n",
        "plt.figure(figsize=(12, 5))\n",
        "\n",
        "# Positive skew\n",
        "plt.subplot(1, 2, 1)\n",
        "plt.hist(positive_skew, bins=30, color='lightgreen', edgecolor='black')\n",
        "plt.title(f'Positive Skewness\\nSkew: {skew(positive_skew):.2f}')\n",
        "plt.xlabel('Value')\n",
        "plt.ylabel('Frequency')\n",
        "\n",
        "# Negative skew\n",
        "plt.subplot(1, 2, 2)\n",
        "plt.hist(negative_skew, bins=30, color='salmon', edgecolor='black')\n",
        "plt.title(f'Negative Skewness\\nSkew: {skew(negative_skew):.2f}')\n",
        "plt.xlabel('Value')\n",
        "plt.ylabel('Frequency')\n",
        "\n",
        "plt.tight_layout()\n",
        "plt.show()\n"
      ],
      "metadata": {
        "colab": {
          "base_uri": "https://localhost:8080/",
          "height": 506
        },
        "id": "Xl58CRxQKNjN",
        "outputId": "77cf2e4d-f32b-453f-c687-908e93f436a9"
      },
      "execution_count": 9,
      "outputs": [
        {
          "output_type": "display_data",
          "data": {
            "text/plain": [
              "<Figure size 1200x500 with 2 Axes>"
            ],
            "image/png": "[encoded data removed]"
          },
          "metadata": {}
        }
      ]
    },
    {
      "cell_type": "markdown",
      "source": [
        "---"
      ],
      "metadata": {
        "id": "Pc8gWEHsKQPs"
      }
    },
    {
      "cell_type": "markdown",
      "source": [
        "#Qno 9 :  Write a Python script to calculate covariance between two datasets"
      ],
      "metadata": {
        "id": "-lAQZDvBKQw9"
      }
    },
    {
      "cell_type": "code",
      "source": [
        "import numpy as np\n",
        "\n",
        "# Two sample datasets\n",
        "x = [10, 20, 30, 40, 50]\n",
        "y = [12, 25, 34, 45, 58]\n",
        "\n",
        "# Convert to NumPy arrays\n",
        "x_array = np.array(x)\n",
        "y_array = np.array(y)\n",
        "\n",
        "# Calculate covariance matrix\n",
        "cov_matrix = np.cov(x_array, y_array, bias=False)  # bias=False for sample covariance\n",
        "\n",
        "# Extract the covariance value\n",
        "covariance = cov_matrix[0][1]\n",
        "\n",
        "print(\"Covariance between x and y:\", covariance)\n"
      ],
      "metadata": {
        "colab": {
          "base_uri": "https://localhost:8080/"
        },
        "id": "7YWgrAJKKWzN",
        "outputId": "b7fcc2b4-b4ad-4b57-831e-2891ac9da0d9"
      },
      "execution_count": 10,
      "outputs": [
        {
          "output_type": "stream",
          "name": "stdout",
          "text": [
            "Covariance between x and y: 280.0\n"
          ]
        }
      ]
    },
    {
      "cell_type": "markdown",
      "source": [
        "---"
      ],
      "metadata": {
        "id": "R2L6V3tXKbVV"
      }
    },
    {
      "cell_type": "markdown",
      "source": [
        "#Qno 10 : Write a Python script to calculate the correlation coefficient between two datasets\n"
      ],
      "metadata": {
        "id": "1Yd477OJKb2V"
      }
    },
    {
      "cell_type": "code",
      "source": [
        "import numpy as np\n",
        "\n",
        "# Two sample datasets\n",
        "x = [10, 20, 30, 40, 50]\n",
        "y = [12, 25, 34, 45, 58]\n",
        "\n",
        "# Convert to NumPy arrays\n",
        "x_array = np.array(x)\n",
        "y_array = np.array(y)\n",
        "\n",
        "# Calculate correlation matrix\n",
        "correlation_matrix = np.corrcoef(x_array, y_array)\n",
        "\n",
        "# Extract the correlation coefficient\n",
        "correlation = correlation_matrix[0][1]\n",
        "\n",
        "print(\"Correlation Coefficient between x and y:\", correlation)\n"
      ],
      "metadata": {
        "colab": {
          "base_uri": "https://localhost:8080/"
        },
        "id": "YSV8KWQFKiK9",
        "outputId": "56c0d737-1520-4f2e-cf6b-885f1df44e0a"
      },
      "execution_count": 11,
      "outputs": [
        {
          "output_type": "stream",
          "name": "stdout",
          "text": [
            "Correlation Coefficient between x and y: 0.998250773885379\n"
          ]
        }
      ]
    },
    {
      "cell_type": "markdown",
      "source": [
        "---"
      ],
      "metadata": {
        "id": "Qbp1gnM-KnBm"
      }
    },
    {
      "cell_type": "markdown",
      "source": [
        "#Qno 11 : Create a scatter plot to visualize the relationship between two variables\n"
      ],
      "metadata": {
        "id": "ZS60mEU7Kny5"
      }
    },
    {
      "cell_type": "code",
      "source": [
        "import matplotlib.pyplot as plt\n",
        "\n",
        "# Sample data\n",
        "x = [10, 20, 30, 40, 50]\n",
        "y = [12, 25, 34, 45, 58]\n",
        "\n",
        "# Create scatter plot\n",
        "plt.scatter(x, y, color='blue', edgecolor='black')\n",
        "plt.title(\"Scatter Plot of X vs Y\")\n",
        "plt.xlabel(\"X values\")\n",
        "plt.ylabel(\"Y values\")\n",
        "plt.grid(True)\n",
        "plt.show()\n"
      ],
      "metadata": {
        "colab": {
          "base_uri": "https://localhost:8080/",
          "height": 472
        },
        "id": "BGrJRGllKuRU",
        "outputId": "5448dfb9-6598-4689-a52b-61a14420b9dd"
      },
      "execution_count": 12,
      "outputs": [
        {
          "output_type": "display_data",
          "data": {
            "text/plain": [
              "<Figure size 640x480 with 1 Axes>"
            ],
            "image/png": "[encoded data removed]"
          },
          "metadata": {}
        }
      ]
    },
    {
      "cell_type": "markdown",
      "source": [
        "---"
      ],
      "metadata": {
        "id": "tnmWqvdRKz-N"
      }
    },
    {
      "cell_type": "markdown",
      "source": [
        "#Qno 12 : Implement and compare simple random sampling and systematic sampling.\n"
      ],
      "metadata": {
        "id": "PogE_iTVK0hV"
      }
    },
    {
      "cell_type": "code",
      "source": [
        "import pandas as pd\n",
        "import numpy as np\n",
        "\n",
        "# Create a sample dataset with 20 values\n",
        "data = {'ID': list(range(1, 21)), 'Marks': np.random.randint(50, 100, size=20)}\n",
        "df = pd.DataFrame(data)\n",
        "print(\"Original Dataset:\\n\", df)\n",
        "\n",
        "# -------------------------------\n",
        "# Simple Random Sampling (select 5 random rows)\n",
        "# -------------------------------\n",
        "random_sample = df.sample(n=5, random_state=1)\n",
        "print(\"\\nSimple Random Sample:\\n\", random_sample)\n",
        "\n",
        "# -------------------------------\n",
        "# Systematic Sampling (every 4th item starting from 0)\n",
        "# -------------------------------\n",
        "def systematic_sampling(df, step):\n",
        "    return df.iloc[::step]\n",
        "\n",
        "systematic_sample = systematic_sampling(df, step=4)\n",
        "print(\"\\nSystematic Sample (every 4th row):\\n\", systematic_sample)\n"
      ],
      "metadata": {
        "colab": {
          "base_uri": "https://localhost:8080/"
        },
        "id": "QcLaMhHyK7Yl",
        "outputId": "c24471a7-af98-41a3-c3f3-9fd90dce40be"
      },
      "execution_count": 13,
      "outputs": [
        {
          "output_type": "stream",
          "name": "stdout",
          "text": [
            "Original Dataset:\n",
            "     ID  Marks\n",
            "0    1     52\n",
            "1    2     94\n",
            "2    3     87\n",
            "3    4     96\n",
            "4    5     87\n",
            "5    6     92\n",
            "6    7     63\n",
            "7    8     89\n",
            "8    9     54\n",
            "9   10     68\n",
            "10  11     92\n",
            "11  12     78\n",
            "12  13     61\n",
            "13  14     82\n",
            "14  15     92\n",
            "15  16     52\n",
            "16  17     83\n",
            "17  18     76\n",
            "18  19     64\n",
            "19  20     84\n",
            "\n",
            "Simple Random Sample:\n",
            "     ID  Marks\n",
            "3    4     96\n",
            "16  17     83\n",
            "6    7     63\n",
            "10  11     92\n",
            "2    3     87\n",
            "\n",
            "Systematic Sample (every 4th row):\n",
            "     ID  Marks\n",
            "0    1     52\n",
            "4    5     87\n",
            "8    9     54\n",
            "12  13     61\n",
            "16  17     83\n"
          ]
        }
      ]
    },
    {
      "cell_type": "markdown",
      "source": [
        "---"
      ],
      "metadata": {
        "id": "wtYnuqm2LBc1"
      }
    },
    {
      "cell_type": "markdown",
      "source": [
        "#Qno 13 : Calculate the mean, median, and mode of grouped data.\n"
      ],
      "metadata": {
        "id": "tTPTbaLLLB89"
      }
    },
    {
      "cell_type": "code",
      "source": [
        "import pandas as pd\n",
        "\n",
        "# Define class intervals and corresponding frequencies\n",
        "classes = ['0-10', '10-20', '20-30', '30-40', '40-50']\n",
        "frequency = [5, 8, 15, 16, 6]\n",
        "\n",
        "# Create DataFrame\n",
        "df = pd.DataFrame({'Class': classes, 'Frequency': frequency})\n",
        "\n",
        "# Calculate class midpoints\n",
        "df['Midpoint'] = df['Class'].apply(lambda x: (int(x.split('-')[0]) + int(x.split('-')[1])) / 2)\n",
        "\n",
        "# Mean = Σ(f * x) / Σf\n",
        "df['f*x'] = df['Frequency'] * df['Midpoint']\n",
        "mean = df['f*x'].sum() / df['Frequency'].sum()\n",
        "\n",
        "print(\"Grouped Mean:\", mean)\n"
      ],
      "metadata": {
        "colab": {
          "base_uri": "https://localhost:8080/"
        },
        "id": "xCiDA9iLLILk",
        "outputId": "2d4771ec-b23c-42b3-f525-e2679041b8f4"
      },
      "execution_count": 14,
      "outputs": [
        {
          "output_type": "stream",
          "name": "stdout",
          "text": [
            "Grouped Mean: 27.0\n"
          ]
        }
      ]
    },
    {
      "cell_type": "markdown",
      "source": [
        "---"
      ],
      "metadata": {
        "id": "8lQ6XiSQLNsl"
      }
    },
    {
      "cell_type": "markdown",
      "source": [
        "#Qno 14 : Simulate data using Python and calculate its central tendency and dispersion.\n",
        "-"
      ],
      "metadata": {
        "id": "l9FX7LA7LOM1"
      }
    },
    {
      "cell_type": "code",
      "source": [
        "import numpy as np\n",
        "import pandas as pd\n",
        "import statistics\n",
        "\n",
        "# Simulate random data (e.g., exam scores for 100 students)\n",
        "np.random.seed(42)  # for reproducibility\n",
        "data = np.random.randint(40, 100, size=100)  # values between 40 and 99\n",
        "\n",
        "# Convert to pandas Series for convenience\n",
        "series = pd.Series(data)\n",
        "\n",
        "# ----- Central Tendency -----\n",
        "mean_val = series.mean()\n",
        "median_val = series.median()\n",
        "mode_val = series.mode().iloc[0]  # handle multiple modes\n",
        "\n",
        "# ----- Dispersion Measures -----\n",
        "variance_val = series.var()\n",
        "std_dev = series.std()\n",
        "range_val = series.max() - series.min()\n",
        "\n",
        "# ----- Print Results -----\n",
        "print(\"Simulated Data:\", list(series[:10]), \"...\")  # print first 10 values\n",
        "print(\"\\n--- Central Tendency ---\")\n",
        "print(\"Mean:\", mean_val)\n",
        "print(\"Median:\", median_val)\n",
        "print(\"Mode:\", mode_val)\n",
        "\n",
        "print(\"\\n--- Dispersion ---\")\n",
        "print(\"Variance:\", variance_val)\n",
        "print(\"Standard Deviation:\", std_dev)\n",
        "print(\"Range:\", range_val)\n"
      ],
      "metadata": {
        "colab": {
          "base_uri": "https://localhost:8080/"
        },
        "id": "p72o_pJ_Lgfd",
        "outputId": "51034c3b-37c7-42c4-9677-56d491ca3e8d"
      },
      "execution_count": 15,
      "outputs": [
        {
          "output_type": "stream",
          "name": "stdout",
          "text": [
            "Simulated Data: [78, 91, 68, 54, 82, 47, 60, 78, 97, 58] ...\n",
            "\n",
            "--- Central Tendency ---\n",
            "Mean: 69.58\n",
            "Median: 68.0\n",
            "Mode: 83\n",
            "\n",
            "--- Dispersion ---\n",
            "Variance: 325.1349494949495\n",
            "Standard Deviation: 18.03149881443441\n",
            "Range: 58\n"
          ]
        }
      ]
    },
    {
      "cell_type": "markdown",
      "source": [
        "---"
      ],
      "metadata": {
        "id": "YPVMG4puLiOd"
      }
    },
    {
      "cell_type": "markdown",
      "source": [
        "#Qno 15 : Use NumPy or pandas to summarize a dataset’s descriptive statistics.\n",
        "-"
      ],
      "metadata": {
        "id": "GwABKnNRLi9V"
      }
    },
    {
      "cell_type": "code",
      "source": [
        "import numpy as np\n",
        "import pandas as pd\n",
        "\n",
        "# Simulate a dataset (e.g., student marks)\n",
        "data = np.random.randint(50, 100, size=30)\n",
        "\n",
        "# Convert to pandas Series\n",
        "series = pd.Series(data)\n",
        "\n",
        "# --- Using Pandas describe() ---\n",
        "print(\"Pandas Descriptive Statistics:\\n\")\n",
        "print(series.describe())\n",
        "\n",
        "# --- Additional stats using NumPy ---\n",
        "print(\"\\nAdditional Stats Using NumPy:\")\n",
        "print(\"Variance:\", np.var(data, ddof=1))  # sample variance\n",
        "print(\"Standard Deviation:\", np.std(data, ddof=1))  # sample std\n",
        "print(\"Range:\", np.max(data) - np.min(data))\n"
      ],
      "metadata": {
        "colab": {
          "base_uri": "https://localhost:8080/"
        },
        "id": "J4SjuGyMLp3F",
        "outputId": "49f08c98-cac4-4394-fc5f-1a41dbad9857"
      },
      "execution_count": 16,
      "outputs": [
        {
          "output_type": "stream",
          "name": "stdout",
          "text": [
            "Pandas Descriptive Statistics:\n",
            "\n",
            "count    30.000000\n",
            "mean     73.100000\n",
            "std      13.973744\n",
            "min      50.000000\n",
            "25%      63.250000\n",
            "50%      73.000000\n",
            "75%      84.000000\n",
            "max      96.000000\n",
            "dtype: float64\n",
            "\n",
            "Additional Stats Using NumPy:\n",
            "Variance: 195.26551724137934\n",
            "Standard Deviation: 13.97374385200256\n",
            "Range: 46\n"
          ]
        }
      ]
    },
    {
      "cell_type": "markdown",
      "source": [
        "---"
      ],
      "metadata": {
        "id": "T3_xNk0ULyIm"
      }
    },
    {
      "cell_type": "markdown",
      "source": [
        "#Qno 16 :  Plot a boxplot to understand the spread and identify outliers.\n"
      ],
      "metadata": {
        "id": "s5lToIuqLymg"
      }
    },
    {
      "cell_type": "code",
      "source": [
        "import matplotlib.pyplot as plt\n",
        "import numpy as np\n",
        "import seaborn as sns\n",
        "\n",
        "# Simulate sample data\n",
        "np.random.seed(42)\n",
        "data = np.random.randint(40, 100, size=50)\n",
        "\n",
        "# Plot boxplot using seaborn\n",
        "plt.figure(figsize=(6, 4))\n",
        "sns.boxplot(data, color='skyblue')\n",
        "plt.title(\"Boxplot: Spread and Outlier Detection\")\n",
        "plt.xlabel(\"Values\")\n",
        "plt.grid(True)\n",
        "plt.show()\n"
      ],
      "metadata": {
        "colab": {
          "base_uri": "https://localhost:8080/",
          "height": 396
        },
        "id": "sXxWOWGdL4YV",
        "outputId": "2bdfb97a-5fb8-48a7-cf8c-39c3d341f7e8"
      },
      "execution_count": 17,
      "outputs": [
        {
          "output_type": "display_data",
          "data": {
            "text/plain": [
              "<Figure size 600x400 with 1 Axes>"
            ],
            "image/png": "[encoded data removed]"
          },
          "metadata": {}
        }
      ]
    },
    {
      "cell_type": "markdown",
      "source": [
        "---"
      ],
      "metadata": {
        "id": "TnsUJSydL9Me"
      }
    },
    {
      "cell_type": "markdown",
      "source": [
        "#Qno 17 : Calculate the interquartile range (IQR) of a dataset"
      ],
      "metadata": {
        "id": "sZY6lcVZL9tD"
      }
    },
    {
      "cell_type": "code",
      "source": [
        "import numpy as np\n",
        "\n",
        "# Sample dataset\n",
        "data = [45, 50, 55, 60, 62, 65, 68, 70, 72, 75, 78, 80, 85, 90, 95]\n",
        "\n",
        "# Convert to NumPy array\n",
        "data_array = np.array(data)\n",
        "\n",
        "# Calculate Q1 (25th percentile) and Q3 (75th percentile)\n",
        "Q1 = np.percentile(data_array, 25)\n",
        "Q3 = np.percentile(data_array, 75)\n",
        "\n",
        "# Calculate IQR\n",
        "IQR = Q3 - Q1\n",
        "\n",
        "# Print the results\n",
        "print(\"Q1 (25th percentile):\", Q1)\n",
        "print(\"Q3 (75th percentile):\", Q3)\n",
        "print(\"Interquartile Range (IQR):\", IQR)\n"
      ],
      "metadata": {
        "colab": {
          "base_uri": "https://localhost:8080/"
        },
        "id": "8Y0QMDzWMCQu",
        "outputId": "12036a97-4428-486f-b79c-0be01e2e9f41"
      },
      "execution_count": 18,
      "outputs": [
        {
          "output_type": "stream",
          "name": "stdout",
          "text": [
            "Q1 (25th percentile): 61.0\n",
            "Q3 (75th percentile): 79.0\n",
            "Interquartile Range (IQR): 18.0\n"
          ]
        }
      ]
    },
    {
      "cell_type": "markdown",
      "source": [
        "---"
      ],
      "metadata": {
        "id": "82WwsyBjMH0N"
      }
    },
    {
      "cell_type": "markdown",
      "source": [
        "#Qno 18 : Implement Z-score normalization and explain its significance\n"
      ],
      "metadata": {
        "id": "Vg7mp6QBMIQ0"
      }
    },
    {
      "cell_type": "code",
      "source": [
        "import numpy as np\n",
        "import pandas as pd\n",
        "from scipy.stats import zscore\n",
        "\n",
        "# Sample dataset\n",
        "data = [45, 50, 55, 60, 62, 65, 68, 70, 72, 75, 78, 80, 85, 90, 95]\n",
        "series = pd.Series(data)\n",
        "\n",
        "# Z-score normalization using SciPy\n",
        "z_scores = zscore(series)\n",
        "\n",
        "# Display original and normalized values\n",
        "normalized_df = pd.DataFrame({\n",
        "    \"Original\": series,\n",
        "    \"Z-Score\": z_scores\n",
        "})\n",
        "\n",
        "print(normalized_df)\n"
      ],
      "metadata": {
        "colab": {
          "base_uri": "https://localhost:8080/"
        },
        "id": "d51mDOrVMP7N",
        "outputId": "32ddc1f3-e713-4abc-d20b-ffecc901e81e"
      },
      "execution_count": 19,
      "outputs": [
        {
          "output_type": "stream",
          "name": "stdout",
          "text": [
            "    Original   Z-Score\n",
            "0         45 -1.802343\n",
            "1         50 -1.441875\n",
            "2         55 -1.081406\n",
            "3         60 -0.720937\n",
            "4         62 -0.576750\n",
            "5         65 -0.360469\n",
            "6         68 -0.144187\n",
            "7         70  0.000000\n",
            "8         72  0.144187\n",
            "9         75  0.360469\n",
            "10        78  0.576750\n",
            "11        80  0.720937\n",
            "12        85  1.081406\n",
            "13        90  1.441875\n",
            "14        95  1.802343\n"
          ]
        }
      ]
    },
    {
      "cell_type": "markdown",
      "source": [
        "---"
      ],
      "metadata": {
        "id": "rY0ghDfAMXry"
      }
    },
    {
      "cell_type": "markdown",
      "source": [
        "#Qno 19 : Compare two datasets using their standard deviations\n"
      ],
      "metadata": {
        "id": "KM0kqfZlMYIW"
      }
    },
    {
      "cell_type": "code",
      "source": [
        "import numpy as np\n",
        "\n",
        "# Simulated datasets (e.g., marks in two subjects)\n",
        "dataset_A = [55, 60, 65, 70, 75, 80, 85]\n",
        "dataset_B = [40, 55, 60, 65, 90, 95, 100]\n",
        "\n",
        "# Calculate standard deviation\n",
        "std_A = np.std(dataset_A, ddof=1)  # sample std deviation\n",
        "std_B = np.std(dataset_B, ddof=1)\n",
        "\n",
        "# Print results\n",
        "print(\"Standard Deviation of Dataset A:\", std_A)\n",
        "print(\"Standard Deviation of Dataset B:\", std_B)\n",
        "\n",
        "# Compare spread\n",
        "if std_A > std_B:\n",
        "    print(\"Dataset A has more variability.\")\n",
        "elif std_B > std_A:\n",
        "    print(\"Dataset B has more variability.\")\n",
        "else:\n",
        "    print(\"Both datasets have equal variability.\")\n"
      ],
      "metadata": {
        "colab": {
          "base_uri": "https://localhost:8080/"
        },
        "id": "7vSs0MYUMck-",
        "outputId": "ba778df0-8ac3-4da4-8d46-192196c3275f"
      },
      "execution_count": 20,
      "outputs": [
        {
          "output_type": "stream",
          "name": "stdout",
          "text": [
            "Standard Deviation of Dataset A: 10.801234497346433\n",
            "Standard Deviation of Dataset B: 22.886885410853175\n",
            "Dataset B has more variability.\n"
          ]
        }
      ]
    },
    {
      "cell_type": "markdown",
      "source": [
        "---"
      ],
      "metadata": {
        "id": "LZrl7VnnMh_9"
      }
    },
    {
      "cell_type": "markdown",
      "source": [
        "#Qno 20 : Write a Python program to visualize covariance using a heatmap\n"
      ],
      "metadata": {
        "id": "xN54oNqSMifE"
      }
    },
    {
      "cell_type": "code",
      "source": [
        "import pandas as pd\n",
        "import numpy as np\n",
        "import seaborn as sns\n",
        "import matplotlib.pyplot as plt\n",
        "\n",
        "# Simulate a dataset with 3 variables\n",
        "np.random.seed(42)\n",
        "data = {\n",
        "    'Math': np.random.randint(60, 100, 20),\n",
        "    'Science': np.random.randint(55, 95, 20),\n",
        "    'English': np.random.randint(50, 90, 20)\n",
        "}\n",
        "\n",
        "df = pd.DataFrame(data)\n",
        "\n",
        "# Compute covariance matrix\n",
        "cov_matrix = df.cov()\n",
        "\n",
        "# Plot heatmap\n",
        "plt.figure(figsize=(6, 4))\n",
        "sns.heatmap(cov_matrix, annot=True, cmap='coolwarm', fmt=\".2f\")\n",
        "plt.title(\"Covariance Matrix Heatmap\")\n",
        "plt.show()\n"
      ],
      "metadata": {
        "colab": {
          "base_uri": "https://localhost:8080/",
          "height": 391
        },
        "id": "g6Qg983eMnS2",
        "outputId": "127597d1-14db-48dc-f7f5-f33ceb463f52"
      },
      "execution_count": 21,
      "outputs": [
        {
          "output_type": "display_data",
          "data": {
            "text/plain": [
              "<Figure size 600x400 with 2 Axes>"
            ],
            "image/png": "[encoded data removed]"
          },
          "metadata": {}
        }
      ]
    },
    {
      "cell_type": "markdown",
      "source": [
        "---"
      ],
      "metadata": {
        "id": "w6GWoVz8Mstl"
      }
    },
    {
      "cell_type": "markdown",
      "source": [
        "#Qno 21 : Use seaborn to create a correlation matrix for a dataset.\n",
        "\n"
      ],
      "metadata": {
        "id": "JTfDHNRCMtlm"
      }
    },
    {
      "cell_type": "code",
      "source": [
        "import pandas as pd\n",
        "import numpy as np\n",
        "import seaborn as sns\n",
        "import matplotlib.pyplot as plt\n",
        "\n",
        "# Simulate dataset\n",
        "np.random.seed(42)\n",
        "data = {\n",
        "    'Math': np.random.randint(60, 100, 20),\n",
        "    'Science': np.random.randint(55, 95, 20),\n",
        "    'English': np.random.randint(50, 90, 20),\n",
        "    'Computer': np.random.randint(65, 100, 20)\n",
        "}\n",
        "\n",
        "df = pd.DataFrame(data)\n",
        "\n",
        "# Compute correlation matrix\n",
        "corr_matrix = df.corr()\n",
        "\n",
        "# Plot correlation heatmap\n",
        "plt.figure(figsize=(6, 5))\n",
        "sns.heatmap(corr_matrix, annot=True, cmap='coolwarm', fmt=\".2f\")\n",
        "plt.title(\"Correlation Matrix Heatmap\")\n",
        "plt.show()\n"
      ],
      "metadata": {
        "colab": {
          "base_uri": "https://localhost:8080/",
          "height": 468
        },
        "id": "SMbraH2OM1O1",
        "outputId": "d40f33a2-66e3-4197-edee-6ffa663de55b"
      },
      "execution_count": 22,
      "outputs": [
        {
          "output_type": "display_data",
          "data": {
            "text/plain": [
              "<Figure size 600x500 with 2 Axes>"
            ],
            "image/png": "[encoded data removed]"
          },
          "metadata": {}
        }
      ]
    },
    {
      "cell_type": "markdown",
      "source": [
        "---"
      ],
      "metadata": {
        "id": "bKZ8BCtyM8qu"
      }
    },
    {
      "cell_type": "markdown",
      "source": [
        "#Qno 22 : Generate a dataset and implement both variance and standard deviation computations\n"
      ],
      "metadata": {
        "id": "kP5DhTjwM9L2"
      }
    },
    {
      "cell_type": "code",
      "source": [
        "import numpy as np\n",
        "\n",
        "# Generate dataset (e.g., test scores)\n",
        "np.random.seed(42)\n",
        "data = np.random.randint(50, 100, size=20)\n",
        "\n",
        "# Calculate variance (sample)\n",
        "variance = np.var(data, ddof=1)\n",
        "\n",
        "# Calculate standard deviation (sample)\n",
        "std_dev = np.std(data, ddof=1)\n",
        "\n",
        "# Output\n",
        "print(\"Dataset:\", data)\n",
        "print(\"Variance:\", variance)\n",
        "print(\"Standard Deviation:\", std_dev)\n"
      ],
      "metadata": {
        "colab": {
          "base_uri": "https://localhost:8080/"
        },
        "id": "iwSXToT-NCs7",
        "outputId": "1d145903-dcec-49ae-c9b3-d31361c01434"
      },
      "execution_count": 23,
      "outputs": [
        {
          "output_type": "stream",
          "name": "stdout",
          "text": [
            "Dataset: [88 78 64 92 57 70 88 68 72 60 60 73 85 89 73 52 71 51 73 93]\n",
            "Variance: 172.34473684210525\n",
            "Standard Deviation: 13.128013438525466\n"
          ]
        }
      ]
    },
    {
      "cell_type": "markdown",
      "source": [
        "---"
      ],
      "metadata": {
        "id": "PRhAxneINHRG"
      }
    },
    {
      "cell_type": "markdown",
      "source": [
        "#Qno 23 : Visualize skewness and kurtosis using Python libraries like matplotlib or seaborn\n"
      ],
      "metadata": {
        "id": "xA10XsRLNHwn"
      }
    },
    {
      "cell_type": "code",
      "source": [
        "import numpy as np\n",
        "import pandas as pd\n",
        "import seaborn as sns\n",
        "import matplotlib.pyplot as plt\n",
        "from scipy.stats import skew, kurtosis\n",
        "\n",
        "# Simulate a dataset\n",
        "np.random.seed(42)\n",
        "data = np.random.normal(loc=50, scale=10, size=1000)  # normal distribution\n",
        "\n",
        "# Convert to pandas Series\n",
        "series = pd.Series(data)\n",
        "\n",
        "# Calculate skewness and kurtosis\n",
        "skew_val = skew(series)\n",
        "kurt_val = kurtosis(series)  # excess kurtosis\n",
        "\n",
        "# Plot histogram with KDE\n",
        "plt.figure(figsize=(8, 5))\n",
        "sns.histplot(series, bins=30, kde=True, color='skyblue', edgecolor='black')\n",
        "plt.title(f\"Distribution with Skewness = {skew_val:.2f} and Kurtosis = {kurt_val:.2f}\")\n",
        "plt.xlabel(\"Values\")\n",
        "plt.ylabel(\"Frequency\")\n",
        "plt.grid(True)\n",
        "plt.show()\n"
      ],
      "metadata": {
        "colab": {
          "base_uri": "https://localhost:8080/",
          "height": 487
        },
        "id": "4eV-aJjuNMuA",
        "outputId": "83a82ed8-94c5-4633-e324-277d15ddb05f"
      },
      "execution_count": 24,
      "outputs": [
        {
          "output_type": "display_data",
          "data": {
            "text/plain": [
              "<Figure size 800x500 with 1 Axes>"
            ],
            "image/png": "[encoded data removed]"
          },
          "metadata": {}
        }
      ]
    },
    {
      "cell_type": "markdown",
      "source": [
        "---"
      ],
      "metadata": {
        "id": "2ij9jyG9NSYv"
      }
    },
    {
      "cell_type": "markdown",
      "source": [
        "#Qno 24 : Implement the Pearson and Spearman correlation coefficients for a dataset"
      ],
      "metadata": {
        "id": "C2aas31KNTie"
      }
    },
    {
      "cell_type": "code",
      "source": [
        "import numpy as np\n",
        "from scipy.stats import pearsonr, spearmanr\n",
        "\n",
        "# Sample datasets\n",
        "x = [10, 20, 30, 40, 50]\n",
        "y = [15, 25, 35, 45, 55]      # Linear (strong positive)\n",
        "z = [1, 2, 3, 5, 4]           # Non-linear pattern\n",
        "\n",
        "# Pearson Correlation (linear relationship)\n",
        "pearson_xy, _ = pearsonr(x, y)\n",
        "pearson_xz, _ = pearsonr(x, z)\n",
        "\n",
        "# Spearman Correlation (monotonic relationship)\n",
        "spearman_xy, _ = spearmanr(x, y)\n",
        "spearman_xz, _ = spearmanr(x, z)\n",
        "\n",
        "# Output\n",
        "print(\"Pearson Correlation (x, y):\", pearson_xy)\n",
        "print(\"Pearson Correlation (x, z):\", pearson_xz)\n",
        "\n",
        "print(\"Spearman Correlation (x, y):\", spearman_xy)\n",
        "print(\"Spearman Correlation (x, z):\", spearman_xz)\n"
      ],
      "metadata": {
        "colab": {
          "base_uri": "https://localhost:8080/"
        },
        "id": "fOADi4xpNYrP",
        "outputId": "84b85df1-17ab-40a8-91d9-74220add4cb7"
      },
      "execution_count": 25,
      "outputs": [
        {
          "output_type": "stream",
          "name": "stdout",
          "text": [
            "Pearson Correlation (x, y): 0.9999999999999998\n",
            "Pearson Correlation (x, z): 0.8999999999999998\n",
            "Spearman Correlation (x, y): 0.9999999999999999\n",
            "Spearman Correlation (x, z): 0.8999999999999998\n"
          ]
        }
      ]
    },
    {
      "cell_type": "markdown",
      "source": [
        "---"
      ],
      "metadata": {
        "id": "k19SqdFANd1Y"
      }
    }
  ]
}